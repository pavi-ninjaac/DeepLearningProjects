{
  "nbformat": 4,
  "nbformat_minor": 0,
  "metadata": {
    "colab": {
      "name": "FER_VGG",
      "provenance": [],
      "mount_file_id": "1h99nhsz-bcCCR3mFDHOGSxjF-yoVaw_V",
      "authorship_tag": "ABX9TyOsRpTCfGT+UtAFLSmxWVNw",
      "include_colab_link": true
    },
    "kernelspec": {
      "name": "python3",
      "display_name": "Python 3"
    },
    "accelerator": "GPU"
  },
  "cells": [
    {
      "cell_type": "markdown",
      "metadata": {
        "id": "view-in-github",
        "colab_type": "text"
      },
      "source": [
        "<a href=\"https://colab.research.google.com/github/pavi-ninjaac/DeepLearningProjects/blob/main/Face_Emotion_Recognision/FER_VGG.ipynb\" target=\"_parent\"><img src=\"https://colab.research.google.com/assets/colab-badge.svg\" alt=\"Open In Colab\"/></a>"
      ]
    },
    {
      "cell_type": "code",
      "metadata": {
        "id": "jqyF8qGKCiMw"
      },
      "source": [
        "#import the libraries\r\n",
        "import pandas as pd\r\n",
        "import numpy as np\r\n",
        "import matplotlib.pyplot as plt\r\n",
        "import seaborn as sns\r\n",
        "import itertools\r\n",
        "\r\n",
        "#keras \r\n",
        "from keras.utils.np_utils import to_categorical\r\n",
        "from keras.callbacks import EarlyStopping,ReduceLROnPlateau\r\n",
        "from keras.models import load_model\r\n",
        "from sklearn.metrics import confusion_matrix\r\n",
        "\r\n",
        "#keras layers\r\n",
        "from keras.models import Sequential \r\n",
        "from keras.layers import Conv2D,MaxPooling2D,BatchNormalization,AveragePooling2D\r\n",
        "from keras.layers import Flatten,Dropout,Dense"
      ],
      "execution_count": 29,
      "outputs": []
    },
    {
      "cell_type": "code",
      "metadata": {
        "colab": {
          "base_uri": "https://localhost:8080/",
          "height": 196
        },
        "id": "OxACXptuC1Cg",
        "outputId": "297edbf9-f96a-4521-8d55-ff33603a2be9"
      },
      "source": [
        "#read the dataset\r\n",
        "data = pd.read_csv('/content/drive/MyDrive/Colab Notebooks/dataFiles/fer2013.csv')\r\n",
        "\r\n",
        "print(\"the classs labels\",data['emotion'].unique()) #7 classes\r\n",
        "print(\"The shape of the dataset\",data.shape)\r\n",
        "\r\n",
        "data.head(4)"
      ],
      "execution_count": 2,
      "outputs": [
        {
          "output_type": "stream",
          "text": [
            "the classs labels [0 2 4 6 3 5 1]\n",
            "The shape of the dataset (35887, 3)\n"
          ],
          "name": "stdout"
        },
        {
          "output_type": "execute_result",
          "data": {
            "text/html": [
              "<div>\n",
              "<style scoped>\n",
              "    .dataframe tbody tr th:only-of-type {\n",
              "        vertical-align: middle;\n",
              "    }\n",
              "\n",
              "    .dataframe tbody tr th {\n",
              "        vertical-align: top;\n",
              "    }\n",
              "\n",
              "    .dataframe thead th {\n",
              "        text-align: right;\n",
              "    }\n",
              "</style>\n",
              "<table border=\"1\" class=\"dataframe\">\n",
              "  <thead>\n",
              "    <tr style=\"text-align: right;\">\n",
              "      <th></th>\n",
              "      <th>emotion</th>\n",
              "      <th>pixels</th>\n",
              "      <th>Usage</th>\n",
              "    </tr>\n",
              "  </thead>\n",
              "  <tbody>\n",
              "    <tr>\n",
              "      <th>0</th>\n",
              "      <td>0</td>\n",
              "      <td>70 80 82 72 58 58 60 63 54 58 60 48 89 115 121...</td>\n",
              "      <td>Training</td>\n",
              "    </tr>\n",
              "    <tr>\n",
              "      <th>1</th>\n",
              "      <td>0</td>\n",
              "      <td>151 150 147 155 148 133 111 140 170 174 182 15...</td>\n",
              "      <td>Training</td>\n",
              "    </tr>\n",
              "    <tr>\n",
              "      <th>2</th>\n",
              "      <td>2</td>\n",
              "      <td>231 212 156 164 174 138 161 173 182 200 106 38...</td>\n",
              "      <td>Training</td>\n",
              "    </tr>\n",
              "    <tr>\n",
              "      <th>3</th>\n",
              "      <td>4</td>\n",
              "      <td>24 32 36 30 32 23 19 20 30 41 21 22 32 34 21 1...</td>\n",
              "      <td>Training</td>\n",
              "    </tr>\n",
              "  </tbody>\n",
              "</table>\n",
              "</div>"
            ],
            "text/plain": [
              "   emotion                                             pixels     Usage\n",
              "0        0  70 80 82 72 58 58 60 63 54 58 60 48 89 115 121...  Training\n",
              "1        0  151 150 147 155 148 133 111 140 170 174 182 15...  Training\n",
              "2        2  231 212 156 164 174 138 161 173 182 200 106 38...  Training\n",
              "3        4  24 32 36 30 32 23 19 20 30 41 21 22 32 34 21 1...  Training"
            ]
          },
          "metadata": {
            "tags": []
          },
          "execution_count": 2
        }
      ]
    },
    {
      "cell_type": "code",
      "metadata": {
        "colab": {
          "base_uri": "https://localhost:8080/"
        },
        "id": "B8J5NdMKEszy",
        "outputId": "9982f87b-ce9b-45b0-cc21-e793aaafb3c2"
      },
      "source": [
        "data['Usage'].value_counts()"
      ],
      "execution_count": 3,
      "outputs": [
        {
          "output_type": "execute_result",
          "data": {
            "text/plain": [
              "Training       28709\n",
              "PublicTest      3589\n",
              "PrivateTest     3589\n",
              "Name: Usage, dtype: int64"
            ]
          },
          "metadata": {
            "tags": []
          },
          "execution_count": 3
        }
      ]
    },
    {
      "cell_type": "code",
      "metadata": {
        "id": "S-PpUQcKDOYa"
      },
      "source": [
        "#pixcels are in str formate so need to read and convert it to numpy array\r\n",
        "\r\n",
        "def generate_dataset(data):\r\n",
        "  X_train,y_train,X_test,y_test,X_val,y_val = [],[],[],[],[],[]\r\n",
        "\r\n",
        "  print(\"Collecting all data...................\")\r\n",
        "  for i in range(data.shape[0]):\r\n",
        "    d = data.iloc[i,:]\r\n",
        "    value = d['pixels'].split(' ')\r\n",
        "    if (d['Usage'] == 'Training'):\r\n",
        "      X_train.append(np.array(value,'float32'))\r\n",
        "      y_train.append(d['emotion'])\r\n",
        "    elif d['Usage'] =='PrivateTest':\r\n",
        "      X_val.append(np.array(value,'float32'))\r\n",
        "      y_val.append(d['emotion'])\r\n",
        "    else:\r\n",
        "      X_test.append(np.array(value,'float32'))\r\n",
        "      y_test.append(d['emotion'])\r\n",
        "\r\n",
        "\r\n",
        "  print(\"Converting to numpy array>>>>>>>>>>>>>>>>>>\")\r\n",
        "  #convert list to numpy array\r\n",
        "  X_train = np.array(X_train,'float32')  \r\n",
        "  y_train = np.array(y_train,'float32')  \r\n",
        "  X_test = np.array(X_test,'float32')  \r\n",
        "  y_test = np.array(y_test,'float32')\r\n",
        "  X_val = np.array(X_val,'float32')  \r\n",
        "  y_val = np.array(y_val,'float32')\r\n",
        "\r\n",
        "  print(\"Normalizing the data>>>>>>>>>>>>>>>>>>>>>>\")\r\n",
        "  #normalize the data\r\n",
        "  X_train  = X_train/255.0\r\n",
        "  X_test = X_test/255.0\r\n",
        "  X_val = X_val/255.0\r\n",
        "\r\n",
        "  print(\"Converting target to one hot encoded values>>>>>>>>>>>>>>>>>>>>>>\")\r\n",
        "  #convert to numerical values to 0,1\r\n",
        "  y_train = to_categorical(y_train,num_classes=7)\r\n",
        "  y_test = to_categorical(y_test,num_classes=7)\r\n",
        "  y_val = to_categorical(y_val,num_classes=7)\r\n",
        "\r\n",
        "  print(\"reshaping the data>>>>>>>>>>>>>>>>>>>>>>>>>>>>>>>>>>\")\r\n",
        "  #reshape the train X data to 48 x 48 picxels\r\n",
        "  #the len of the given picxels is 2304 ------>(48*48)\r\n",
        "  X_train = X_train.reshape(X_train.shape[0] , 48 ,48 , 1)\r\n",
        "  X_test = X_test.reshape(X_test.shape[0] , 48 ,48 , 1)\r\n",
        "  X_val = X_val.reshape(X_val.shape[0] , 48 ,48 , 1)\r\n",
        "\r\n",
        "  print(\"Preprocessing  completed!!!!!!!!!! stay happy :)\")\r\n",
        "  return X_train,y_train,X_test,y_test,X_val,y_val"
      ],
      "execution_count": 4,
      "outputs": []
    },
    {
      "cell_type": "code",
      "metadata": {
        "colab": {
          "base_uri": "https://localhost:8080/"
        },
        "id": "0pH1i-FWFf9g",
        "outputId": "f5e9c712-b0ab-4e9d-d30f-fc853cc75314"
      },
      "source": [
        "X_train,y_train,X_test,y_test,X_val,y_val = generate_dataset(data)"
      ],
      "execution_count": 5,
      "outputs": [
        {
          "output_type": "stream",
          "text": [
            "Collecting all data...................\n",
            "Converting to numpy array>>>>>>>>>>>>>>>>>>\n",
            "Normalizing the data>>>>>>>>>>>>>>>>>>>>>>\n",
            "Converting target to one hot encoded values>>>>>>>>>>>>>>>>>>>>>>\n",
            "reshaping the data>>>>>>>>>>>>>>>>>>>>>>>>>>>>>>>>>>\n",
            "Preprocessing  completed!!!!!!!!!! stay happy :)\n"
          ],
          "name": "stdout"
        }
      ]
    },
    {
      "cell_type": "code",
      "metadata": {
        "colab": {
          "base_uri": "https://localhost:8080/"
        },
        "id": "tMa9PBjXFwxv",
        "outputId": "9d868d58-508e-479f-a406-b547e66f8619"
      },
      "source": [
        "print(\"The size of the train data-------------------->\",X_train.shape)\r\n",
        "print(\"The size of the train target data------------->\",y_train.shape)\r\n",
        "print()\r\n",
        "print(\"The size of the test data--------------------->\",X_test.shape)\r\n",
        "print(\"The size of the test target data-------------->\",y_test.shape)\r\n",
        "print()\r\n",
        "print(\"The size of the validation data--------------->\",X_val.shape)\r\n",
        "print(\"The size of the validation target data-------->\",y_val.shape)"
      ],
      "execution_count": 6,
      "outputs": [
        {
          "output_type": "stream",
          "text": [
            "The size of the train data--------------------> (28709, 48, 48, 1)\n",
            "The size of the train target data-------------> (28709, 7)\n",
            "\n",
            "The size of the test data---------------------> (3589, 48, 48, 1)\n",
            "The size of the test target data--------------> (3589, 7)\n",
            "\n",
            "The size of the validation data---------------> (3589, 48, 48, 1)\n",
            "The size of the validation target data--------> (3589, 7)\n"
          ],
          "name": "stdout"
        }
      ]
    },
    {
      "cell_type": "markdown",
      "metadata": {
        "id": "8Q1Ja_M93dt4"
      },
      "source": [
        "# plot functions"
      ]
    },
    {
      "cell_type": "code",
      "metadata": {
        "id": "FvHpBaWQ3cxL"
      },
      "source": [
        "def plot_confueion_matrix(y_test , y_pred , title = \"Confusion Matrix\"):\r\n",
        "  classes = np.array((\"Angry\", \"Disgust\", \"Fear\", \"Happy\", \"Sad\", \"Surprise\", \"Neutral\"))\r\n",
        "\r\n",
        "  cmap = plt.cm.Blues\r\n",
        "  cm = confusion_matrix(y_test , y_pred)\r\n",
        "  \r\n",
        "  #plot the cm\r\n",
        "  plt.figure(figsize=(7,7))\r\n",
        "  plt.imshow(cm , interpolation='nearest' , cmap= cmap)\r\n",
        "  plt.colorbar()\r\n",
        "  thresh = cm.min() + (cm.max() - cm.min()) / 2.\r\n",
        "  for i, j in itertools.product(range(cm.shape[0]), range(cm.shape[1])):\r\n",
        "        plt.text(j,i, cm[i, j],\r\n",
        "                 horizontalalignment=\"center\",\r\n",
        "                 color=\"white\" if cm[i, j] > thresh else \"black\")\r\n",
        "\r\n",
        "  tick_marks = np.arange(len(classes))\r\n",
        "  plt.xticks(tick_marks, classes, rotation=45,fontsize=10)\r\n",
        "  plt.yticks(tick_marks, classes,fontsize = 10)\r\n",
        "\r\n",
        "  plt.title(title)\r\n",
        "  plt.xlabel('Predicted value')\r\n",
        "  plt.ylabel('True values')\r\n",
        "\r\n",
        "  plt.tight_layout()\r\n",
        "  plt.show()\r\n",
        "  #plt.save('path.ghb.png')\r\n",
        "\r\n",
        "\r\n",
        "def plot_accuracy_loss_graph(result):\r\n",
        "  plt.figure(figsize=(20,8))\r\n",
        "  plt.subplot(1,2,1)\r\n",
        "\r\n",
        "  plt.plot(result.history['accuracy'])\r\n",
        "  plt.plot(result.history['val_accuracy'])\r\n",
        "  plt.title('VGG Model Accuracy')\r\n",
        "  plt.ylabel('Accuracy')\r\n",
        "  plt.xlabel('Epoch')\r\n",
        "  plt.legend(['Train', 'Test'], loc='upper left')\r\n",
        "  \r\n",
        "  #plt.savefig('ResNet Model Loss.png')\r\n",
        "\r\n",
        "  plt.subplot(1,2,2)\r\n",
        "\r\n",
        "  plt.plot(result.history['loss'])\r\n",
        "  plt.plot(result.history['val_loss'])\r\n",
        "  plt.title('VGG  Model Loss')\r\n",
        "  plt.ylabel('Loss')\r\n",
        "  plt.xlabel('Epoch')\r\n",
        "  plt.legend(['Train', 'Test'], loc='upper left')\r\n",
        "  plt.show()\r\n",
        "  #plt.savefig('ResNet Model Loss.png')\r\n"
      ],
      "execution_count": 45,
      "outputs": []
    },
    {
      "cell_type": "markdown",
      "metadata": {
        "id": "DVNnDNrzyERQ"
      },
      "source": [
        "# building the model--->ALEXNET Architechture"
      ]
    },
    {
      "cell_type": "code",
      "metadata": {
        "id": "0HJwNf_jGMdH"
      },
      "source": [
        "#building the model\r\n",
        "def VGGnet(input_shape , num_classes , ):\r\n",
        "  model = Sequential()\r\n",
        "  model.add(Conv2D(64, (5, 5), activation='relu', padding='same', input_shape=input_shape)) \r\n",
        "  model.add(Conv2D(64, (5, 5), activation='relu', padding='same', ))\r\n",
        "  model.add(BatchNormalization())\r\n",
        "  model.add(MaxPooling2D(pool_size=(2,2)))\r\n",
        "\r\n",
        "  #model.add(Conv2D(64, (5, 5), activation='relu', padding='same', ))\r\n",
        "  #model.add(BatchNormalization())\r\n",
        "  #model.add(MaxPooling2D(pool_size=(2,2)))\r\n",
        "\r\n",
        "\r\n",
        "  model.add(Conv2D(128, (3, 3), activation='relu',  padding='same', ))\r\n",
        "  model.add(Conv2D(128, (3, 3), activation='relu', padding='same',))\r\n",
        "  model.add(BatchNormalization())\r\n",
        "  model.add(MaxPooling2D(pool_size=(2,2)))\r\n",
        "\r\n",
        "\r\n",
        "  model.add(Conv2D(256, (3, 3), activation='relu', padding='same',))\r\n",
        "  model.add(Conv2D(256, (3, 3), activation='relu',  padding='same',))\r\n",
        "  model.add(BatchNormalization())\r\n",
        "  model.add(MaxPooling2D(pool_size=(2,2)))\r\n",
        "\r\n",
        "\r\n",
        "  model.add(Flatten())\r\n",
        "\r\n",
        "  model.add(Dense(1024, activation='relu',))\r\n",
        "  model.add(Dropout(0.2))\r\n",
        "  model.add(Dense(1024, activation='relu', ))\r\n",
        "  model.add(Dropout(0.2))\r\n",
        "  model.add(Dense(num_classes, activation='sigmoid'))\r\n",
        "\r\n",
        "\r\n",
        "  # compile model\r\n",
        "  \r\n",
        "  model.compile(optimizer='adam', loss='categorical_crossentropy', metrics=['accuracy'])\r\n",
        "\r\n",
        "  #model summary\r\n",
        "  print(model.summary())\r\n",
        "\r\n",
        "  return model"
      ],
      "execution_count": 7,
      "outputs": []
    },
    {
      "cell_type": "code",
      "metadata": {
        "colab": {
          "base_uri": "https://localhost:8080/"
        },
        "id": "F9-dSgCoz0tt",
        "outputId": "29509c9a-7266-46d3-c897-7ab70b99d3df"
      },
      "source": [
        "model = VGGnet(input_shape = (48,48,1), num_classes = 7)"
      ],
      "execution_count": 8,
      "outputs": [
        {
          "output_type": "stream",
          "text": [
            "Model: \"sequential\"\n",
            "_________________________________________________________________\n",
            "Layer (type)                 Output Shape              Param #   \n",
            "=================================================================\n",
            "conv2d (Conv2D)              (None, 48, 48, 64)        1664      \n",
            "_________________________________________________________________\n",
            "conv2d_1 (Conv2D)            (None, 48, 48, 64)        102464    \n",
            "_________________________________________________________________\n",
            "batch_normalization (BatchNo (None, 48, 48, 64)        256       \n",
            "_________________________________________________________________\n",
            "max_pooling2d (MaxPooling2D) (None, 24, 24, 64)        0         \n",
            "_________________________________________________________________\n",
            "conv2d_2 (Conv2D)            (None, 24, 24, 128)       73856     \n",
            "_________________________________________________________________\n",
            "conv2d_3 (Conv2D)            (None, 24, 24, 128)       147584    \n",
            "_________________________________________________________________\n",
            "batch_normalization_1 (Batch (None, 24, 24, 128)       512       \n",
            "_________________________________________________________________\n",
            "max_pooling2d_1 (MaxPooling2 (None, 12, 12, 128)       0         \n",
            "_________________________________________________________________\n",
            "conv2d_4 (Conv2D)            (None, 12, 12, 256)       295168    \n",
            "_________________________________________________________________\n",
            "conv2d_5 (Conv2D)            (None, 12, 12, 256)       590080    \n",
            "_________________________________________________________________\n",
            "batch_normalization_2 (Batch (None, 12, 12, 256)       1024      \n",
            "_________________________________________________________________\n",
            "max_pooling2d_2 (MaxPooling2 (None, 6, 6, 256)         0         \n",
            "_________________________________________________________________\n",
            "flatten (Flatten)            (None, 9216)              0         \n",
            "_________________________________________________________________\n",
            "dense (Dense)                (None, 1024)              9438208   \n",
            "_________________________________________________________________\n",
            "dropout (Dropout)            (None, 1024)              0         \n",
            "_________________________________________________________________\n",
            "dense_1 (Dense)              (None, 1024)              1049600   \n",
            "_________________________________________________________________\n",
            "dropout_1 (Dropout)          (None, 1024)              0         \n",
            "_________________________________________________________________\n",
            "dense_2 (Dense)              (None, 7)                 7175      \n",
            "=================================================================\n",
            "Total params: 11,707,591\n",
            "Trainable params: 11,706,695\n",
            "Non-trainable params: 896\n",
            "_________________________________________________________________\n",
            "None\n"
          ],
          "name": "stdout"
        }
      ]
    },
    {
      "cell_type": "code",
      "metadata": {
        "colab": {
          "base_uri": "https://localhost:8080/"
        },
        "id": "3yWZaJSmz7OL",
        "outputId": "15db0e96-960e-45e0-e61d-a07c6e13dff6"
      },
      "source": [
        "# set callbacks\r\n",
        "early_stoppping = EarlyStopping(monitor = 'val_loss',\r\n",
        "                                min_delta = 0.001,\r\n",
        "                                patience = 10,\r\n",
        "                                restore_best_weights=True)\r\n",
        "\r\n",
        "#set the global values\r\n",
        "epoches = 70\r\n",
        "batch_size = 64\r\n",
        "\r\n",
        "#fit the model\r\n",
        "history = model.fit(X_train, y_train,  \r\n",
        "          batch_size=batch_size,  \r\n",
        "          epochs=epoches,  \r\n",
        "          verbose=1,  \r\n",
        "          validation_data=(X_val, y_val),  \r\n",
        "          shuffle=True) #final accuracy --> at epoch 70 -->449/449 [==============================] - 16s 36ms/step - loss: 0.0594 - accuracy: 0.9826 - val_loss: 2.5800 - val_accuracy: 0.5938"
      ],
      "execution_count": 9,
      "outputs": [
        {
          "output_type": "stream",
          "text": [
            "Epoch 1/70\n",
            "449/449 [==============================] - 24s 37ms/step - loss: 2.7175 - accuracy: 0.2357 - val_loss: 1.6847 - val_accuracy: 0.3257\n",
            "Epoch 2/70\n",
            "449/449 [==============================] - 16s 36ms/step - loss: 1.6278 - accuracy: 0.3575 - val_loss: 1.7075 - val_accuracy: 0.3104\n",
            "Epoch 3/70\n",
            "449/449 [==============================] - 16s 36ms/step - loss: 1.4717 - accuracy: 0.4310 - val_loss: 1.4581 - val_accuracy: 0.4386\n",
            "Epoch 4/70\n",
            "449/449 [==============================] - 16s 36ms/step - loss: 1.3259 - accuracy: 0.4900 - val_loss: 1.3451 - val_accuracy: 0.4868\n",
            "Epoch 5/70\n",
            "449/449 [==============================] - 16s 36ms/step - loss: 1.1985 - accuracy: 0.5476 - val_loss: 1.2721 - val_accuracy: 0.5196\n",
            "Epoch 6/70\n",
            "449/449 [==============================] - 16s 36ms/step - loss: 1.1148 - accuracy: 0.5708 - val_loss: 1.2856 - val_accuracy: 0.5130\n",
            "Epoch 7/70\n",
            "449/449 [==============================] - 16s 36ms/step - loss: 1.0120 - accuracy: 0.6215 - val_loss: 1.1963 - val_accuracy: 0.5464\n",
            "Epoch 8/70\n",
            "449/449 [==============================] - 16s 36ms/step - loss: 0.8927 - accuracy: 0.6665 - val_loss: 1.2071 - val_accuracy: 0.5517\n",
            "Epoch 9/70\n",
            "449/449 [==============================] - 16s 36ms/step - loss: 0.7908 - accuracy: 0.7071 - val_loss: 1.1549 - val_accuracy: 0.5779\n",
            "Epoch 10/70\n",
            "449/449 [==============================] - 16s 36ms/step - loss: 0.6679 - accuracy: 0.7554 - val_loss: 1.2841 - val_accuracy: 0.5751\n",
            "Epoch 11/70\n",
            "449/449 [==============================] - 16s 36ms/step - loss: 0.5310 - accuracy: 0.8090 - val_loss: 1.3529 - val_accuracy: 0.5862\n",
            "Epoch 12/70\n",
            "449/449 [==============================] - 16s 36ms/step - loss: 0.4553 - accuracy: 0.8396 - val_loss: 1.3384 - val_accuracy: 0.5871\n",
            "Epoch 13/70\n",
            "449/449 [==============================] - 16s 36ms/step - loss: 0.3609 - accuracy: 0.8740 - val_loss: 1.4846 - val_accuracy: 0.5790\n",
            "Epoch 14/70\n",
            "449/449 [==============================] - 16s 36ms/step - loss: 0.3083 - accuracy: 0.8941 - val_loss: 1.5269 - val_accuracy: 0.5639\n",
            "Epoch 15/70\n",
            "449/449 [==============================] - 16s 36ms/step - loss: 0.2592 - accuracy: 0.9129 - val_loss: 1.5997 - val_accuracy: 0.5940\n",
            "Epoch 16/70\n",
            "449/449 [==============================] - 16s 36ms/step - loss: 0.2226 - accuracy: 0.9244 - val_loss: 1.7151 - val_accuracy: 0.5809\n",
            "Epoch 17/70\n",
            "449/449 [==============================] - 16s 36ms/step - loss: 0.2151 - accuracy: 0.9302 - val_loss: 1.6947 - val_accuracy: 0.5926\n",
            "Epoch 18/70\n",
            "449/449 [==============================] - 16s 36ms/step - loss: 0.1886 - accuracy: 0.9396 - val_loss: 1.7240 - val_accuracy: 0.5943\n",
            "Epoch 19/70\n",
            "449/449 [==============================] - 16s 36ms/step - loss: 0.1828 - accuracy: 0.9436 - val_loss: 1.7577 - val_accuracy: 0.5743\n",
            "Epoch 20/70\n",
            "449/449 [==============================] - 16s 35ms/step - loss: 0.1640 - accuracy: 0.9490 - val_loss: 1.7461 - val_accuracy: 0.5782\n",
            "Epoch 21/70\n",
            "449/449 [==============================] - 16s 35ms/step - loss: 0.1488 - accuracy: 0.9555 - val_loss: 1.8394 - val_accuracy: 0.5910\n",
            "Epoch 22/70\n",
            "449/449 [==============================] - 16s 35ms/step - loss: 0.1507 - accuracy: 0.9563 - val_loss: 1.8680 - val_accuracy: 0.5815\n",
            "Epoch 23/70\n",
            "449/449 [==============================] - 16s 36ms/step - loss: 0.1352 - accuracy: 0.9579 - val_loss: 2.2626 - val_accuracy: 0.5904\n",
            "Epoch 24/70\n",
            "449/449 [==============================] - 16s 36ms/step - loss: 0.1296 - accuracy: 0.9603 - val_loss: 1.9807 - val_accuracy: 0.5929\n",
            "Epoch 25/70\n",
            "449/449 [==============================] - 16s 35ms/step - loss: 0.1444 - accuracy: 0.9558 - val_loss: 1.7502 - val_accuracy: 0.5890\n",
            "Epoch 26/70\n",
            "449/449 [==============================] - 16s 35ms/step - loss: 0.1220 - accuracy: 0.9639 - val_loss: 1.9517 - val_accuracy: 0.5918\n",
            "Epoch 27/70\n",
            "449/449 [==============================] - 16s 35ms/step - loss: 0.1196 - accuracy: 0.9637 - val_loss: 2.0730 - val_accuracy: 0.5885\n",
            "Epoch 28/70\n",
            "449/449 [==============================] - 16s 35ms/step - loss: 0.1210 - accuracy: 0.9664 - val_loss: 1.9219 - val_accuracy: 0.5854\n",
            "Epoch 29/70\n",
            "449/449 [==============================] - 16s 35ms/step - loss: 0.1189 - accuracy: 0.9622 - val_loss: 1.9407 - val_accuracy: 0.5991\n",
            "Epoch 30/70\n",
            "449/449 [==============================] - 16s 35ms/step - loss: 0.1072 - accuracy: 0.9663 - val_loss: 1.8867 - val_accuracy: 0.6016\n",
            "Epoch 31/70\n",
            "449/449 [==============================] - 16s 36ms/step - loss: 0.1109 - accuracy: 0.9680 - val_loss: 1.8975 - val_accuracy: 0.5965\n",
            "Epoch 32/70\n",
            "449/449 [==============================] - 16s 35ms/step - loss: 0.0968 - accuracy: 0.9706 - val_loss: 2.2037 - val_accuracy: 0.5846\n",
            "Epoch 33/70\n",
            "449/449 [==============================] - 16s 35ms/step - loss: 0.1072 - accuracy: 0.9673 - val_loss: 1.9290 - val_accuracy: 0.5957\n",
            "Epoch 34/70\n",
            "449/449 [==============================] - 16s 35ms/step - loss: 0.0962 - accuracy: 0.9730 - val_loss: 2.0620 - val_accuracy: 0.5991\n",
            "Epoch 35/70\n",
            "449/449 [==============================] - 16s 35ms/step - loss: 0.0990 - accuracy: 0.9729 - val_loss: 2.1917 - val_accuracy: 0.5818\n",
            "Epoch 36/70\n",
            "449/449 [==============================] - 16s 35ms/step - loss: 0.1023 - accuracy: 0.9702 - val_loss: 2.4642 - val_accuracy: 0.5874\n",
            "Epoch 37/70\n",
            "449/449 [==============================] - 16s 35ms/step - loss: 0.1157 - accuracy: 0.9678 - val_loss: 2.1532 - val_accuracy: 0.5851\n",
            "Epoch 38/70\n",
            "449/449 [==============================] - 16s 35ms/step - loss: 0.0901 - accuracy: 0.9727 - val_loss: 1.8371 - val_accuracy: 0.5999\n",
            "Epoch 39/70\n",
            "449/449 [==============================] - 16s 35ms/step - loss: 0.0887 - accuracy: 0.9762 - val_loss: 2.2258 - val_accuracy: 0.5901\n",
            "Epoch 40/70\n",
            "449/449 [==============================] - 16s 35ms/step - loss: 0.0908 - accuracy: 0.9742 - val_loss: 2.3332 - val_accuracy: 0.5921\n",
            "Epoch 41/70\n",
            "449/449 [==============================] - 16s 35ms/step - loss: 0.0869 - accuracy: 0.9725 - val_loss: 2.1291 - val_accuracy: 0.5837\n",
            "Epoch 42/70\n",
            "449/449 [==============================] - 16s 35ms/step - loss: 0.0756 - accuracy: 0.9787 - val_loss: 2.3939 - val_accuracy: 0.5843\n",
            "Epoch 43/70\n",
            "449/449 [==============================] - 16s 35ms/step - loss: 0.0854 - accuracy: 0.9738 - val_loss: 2.5316 - val_accuracy: 0.5784\n",
            "Epoch 44/70\n",
            "449/449 [==============================] - 16s 36ms/step - loss: 0.0823 - accuracy: 0.9753 - val_loss: 2.0154 - val_accuracy: 0.5798\n",
            "Epoch 45/70\n",
            "449/449 [==============================] - 16s 35ms/step - loss: 0.0829 - accuracy: 0.9754 - val_loss: 2.2403 - val_accuracy: 0.5904\n",
            "Epoch 46/70\n",
            "449/449 [==============================] - 16s 36ms/step - loss: 0.0818 - accuracy: 0.9756 - val_loss: 2.1164 - val_accuracy: 0.5729\n",
            "Epoch 47/70\n",
            "449/449 [==============================] - 16s 35ms/step - loss: 0.0793 - accuracy: 0.9765 - val_loss: 2.0073 - val_accuracy: 0.5887\n",
            "Epoch 48/70\n",
            "449/449 [==============================] - 16s 35ms/step - loss: 0.0781 - accuracy: 0.9782 - val_loss: 2.1420 - val_accuracy: 0.5840\n",
            "Epoch 49/70\n",
            "449/449 [==============================] - 16s 36ms/step - loss: 0.0798 - accuracy: 0.9754 - val_loss: 2.4154 - val_accuracy: 0.5871\n",
            "Epoch 50/70\n",
            "449/449 [==============================] - 16s 35ms/step - loss: 0.0727 - accuracy: 0.9777 - val_loss: 2.4427 - val_accuracy: 0.5868\n",
            "Epoch 51/70\n",
            "449/449 [==============================] - 16s 35ms/step - loss: 0.0738 - accuracy: 0.9786 - val_loss: 2.2127 - val_accuracy: 0.5874\n",
            "Epoch 52/70\n",
            "449/449 [==============================] - 16s 35ms/step - loss: 0.0762 - accuracy: 0.9784 - val_loss: 2.1926 - val_accuracy: 0.5974\n",
            "Epoch 53/70\n",
            "449/449 [==============================] - 16s 35ms/step - loss: 0.0768 - accuracy: 0.9792 - val_loss: 2.2527 - val_accuracy: 0.5952\n",
            "Epoch 54/70\n",
            "449/449 [==============================] - 16s 36ms/step - loss: 0.0690 - accuracy: 0.9796 - val_loss: 2.5052 - val_accuracy: 0.5896\n",
            "Epoch 55/70\n",
            "449/449 [==============================] - 16s 36ms/step - loss: 0.0635 - accuracy: 0.9801 - val_loss: 1.9827 - val_accuracy: 0.5887\n",
            "Epoch 56/70\n",
            "449/449 [==============================] - 16s 35ms/step - loss: 0.0707 - accuracy: 0.9813 - val_loss: 10.7600 - val_accuracy: 0.4843\n",
            "Epoch 57/70\n",
            "449/449 [==============================] - 16s 35ms/step - loss: 0.0734 - accuracy: 0.9794 - val_loss: 2.5203 - val_accuracy: 0.5965\n",
            "Epoch 58/70\n",
            "449/449 [==============================] - 16s 36ms/step - loss: 0.0566 - accuracy: 0.9832 - val_loss: 2.5602 - val_accuracy: 0.5996\n",
            "Epoch 59/70\n",
            "449/449 [==============================] - 16s 35ms/step - loss: 0.0739 - accuracy: 0.9785 - val_loss: 2.0766 - val_accuracy: 0.5790\n",
            "Epoch 60/70\n",
            "449/449 [==============================] - 16s 36ms/step - loss: 0.0663 - accuracy: 0.9808 - val_loss: 2.4695 - val_accuracy: 0.5999\n",
            "Epoch 61/70\n",
            "449/449 [==============================] - 16s 35ms/step - loss: 0.0643 - accuracy: 0.9812 - val_loss: 2.6233 - val_accuracy: 0.5818\n",
            "Epoch 62/70\n",
            "449/449 [==============================] - 16s 36ms/step - loss: 0.0662 - accuracy: 0.9807 - val_loss: 2.3878 - val_accuracy: 0.5926\n",
            "Epoch 63/70\n",
            "449/449 [==============================] - 16s 35ms/step - loss: 0.0634 - accuracy: 0.9810 - val_loss: 2.5669 - val_accuracy: 0.5837\n",
            "Epoch 64/70\n",
            "449/449 [==============================] - 16s 36ms/step - loss: 0.0589 - accuracy: 0.9829 - val_loss: 2.4074 - val_accuracy: 0.5910\n",
            "Epoch 65/70\n",
            "449/449 [==============================] - 16s 36ms/step - loss: 0.0532 - accuracy: 0.9845 - val_loss: 3.1349 - val_accuracy: 0.5907\n",
            "Epoch 66/70\n",
            "449/449 [==============================] - 16s 36ms/step - loss: 0.0560 - accuracy: 0.9845 - val_loss: 2.5150 - val_accuracy: 0.5832\n",
            "Epoch 67/70\n",
            "449/449 [==============================] - 16s 36ms/step - loss: 0.0645 - accuracy: 0.9820 - val_loss: 2.0520 - val_accuracy: 0.5812\n",
            "Epoch 68/70\n",
            "449/449 [==============================] - 16s 36ms/step - loss: 0.0578 - accuracy: 0.9828 - val_loss: 2.9406 - val_accuracy: 0.5985\n",
            "Epoch 69/70\n",
            "449/449 [==============================] - 16s 36ms/step - loss: 0.0707 - accuracy: 0.9811 - val_loss: 2.4996 - val_accuracy: 0.5901\n",
            "Epoch 70/70\n",
            "449/449 [==============================] - 16s 36ms/step - loss: 0.0594 - accuracy: 0.9826 - val_loss: 2.5800 - val_accuracy: 0.5938\n"
          ],
          "name": "stdout"
        }
      ]
    },
    {
      "cell_type": "code",
      "metadata": {
        "colab": {
          "base_uri": "https://localhost:8080/"
        },
        "id": "owuVkM9B5iHi",
        "outputId": "33ac22c2-30d9-450a-cab5-67cc82e1e3ff"
      },
      "source": [
        "# save model and architecture to single file\r\n",
        "model.save(\"/content/drive/MyDrive/Colab Notebooks/dataFiles/FER_vggnet.h5\")\r\n",
        "print(\"Saved model to disk\")"
      ],
      "execution_count": 10,
      "outputs": [
        {
          "output_type": "stream",
          "text": [
            "Saved model to disk\n"
          ],
          "name": "stdout"
        }
      ]
    },
    {
      "cell_type": "code",
      "metadata": {
        "id": "LXvaiLyYorxZ",
        "outputId": "3e3a01df-8091-4059-f8d2-60eac32db973",
        "colab": {
          "base_uri": "https://localhost:8080/"
        }
      },
      "source": [
        "# load the model from the disk\r\n",
        "\r\n",
        "fer_vggnet  = load_model('/content/drive/MyDrive/Colab Notebooks/dataFiles/FER_Alex.h5')\r\n",
        "fer_vggnet.summary()"
      ],
      "execution_count": 13,
      "outputs": [
        {
          "output_type": "stream",
          "text": [
            "Model: \"sequential\"\n",
            "_________________________________________________________________\n",
            "Layer (type)                 Output Shape              Param #   \n",
            "=================================================================\n",
            "conv2d (Conv2D)              (None, 48, 48, 64)        1664      \n",
            "_________________________________________________________________\n",
            "conv2d_1 (Conv2D)            (None, 48, 48, 64)        102464    \n",
            "_________________________________________________________________\n",
            "batch_normalization (BatchNo (None, 48, 48, 64)        256       \n",
            "_________________________________________________________________\n",
            "max_pooling2d (MaxPooling2D) (None, 24, 24, 64)        0         \n",
            "_________________________________________________________________\n",
            "conv2d_2 (Conv2D)            (None, 24, 24, 128)       73856     \n",
            "_________________________________________________________________\n",
            "conv2d_3 (Conv2D)            (None, 24, 24, 128)       147584    \n",
            "_________________________________________________________________\n",
            "batch_normalization_1 (Batch (None, 24, 24, 128)       512       \n",
            "_________________________________________________________________\n",
            "max_pooling2d_1 (MaxPooling2 (None, 12, 12, 128)       0         \n",
            "_________________________________________________________________\n",
            "conv2d_4 (Conv2D)            (None, 12, 12, 256)       295168    \n",
            "_________________________________________________________________\n",
            "conv2d_5 (Conv2D)            (None, 12, 12, 256)       590080    \n",
            "_________________________________________________________________\n",
            "batch_normalization_2 (Batch (None, 12, 12, 256)       1024      \n",
            "_________________________________________________________________\n",
            "max_pooling2d_2 (MaxPooling2 (None, 6, 6, 256)         0         \n",
            "_________________________________________________________________\n",
            "flatten (Flatten)            (None, 9216)              0         \n",
            "_________________________________________________________________\n",
            "dense (Dense)                (None, 1024)              9438208   \n",
            "_________________________________________________________________\n",
            "dropout (Dropout)            (None, 1024)              0         \n",
            "_________________________________________________________________\n",
            "dense_1 (Dense)              (None, 1024)              1049600   \n",
            "_________________________________________________________________\n",
            "dropout_1 (Dropout)          (None, 1024)              0         \n",
            "_________________________________________________________________\n",
            "dense_2 (Dense)              (None, 7)                 7175      \n",
            "=================================================================\n",
            "Total params: 11,707,591\n",
            "Trainable params: 11,706,695\n",
            "Non-trainable params: 896\n",
            "_________________________________________________________________\n"
          ],
          "name": "stdout"
        }
      ]
    },
    {
      "cell_type": "code",
      "metadata": {
        "id": "0GBiL_8TqI-v",
        "outputId": "041acfb4-23bb-4761-dc9e-61dbcd621127",
        "colab": {
          "base_uri": "https://localhost:8080/",
          "height": 512
        }
      },
      "source": [
        "# plot the metrics\r\n",
        "\r\n",
        "y_pred = fer_vggnet.predict(X_test , verbose=1)\r\n",
        "y_pred = np.argmax(y_pred , axis = 1)\r\n",
        "\r\n",
        "#change the test value to numerical\r\n",
        "#y_test = np.argmax(y_test , axis = 1)\r\n",
        "\r\n",
        "plot_confueion_matrix(y_test = y_test , y_pred = y_pred)\r\n"
      ],
      "execution_count": 46,
      "outputs": [
        {
          "output_type": "stream",
          "text": [
            "113/113 [==============================] - 1s 6ms/step\n"
          ],
          "name": "stdout"
        },
        {
          "output_type": "display_data",
          "data": {
            "image/png": "[encoded data removed]",
            "text/plain": [
              "<Figure size 504x504 with 2 Axes>"
            ]
          },
          "metadata": {
            "tags": [],
            "needs_background": "light"
          }
        }
      ]
    },
    {
      "cell_type": "code",
      "metadata": {
        "id": "7RXxq9tFza5X",
        "outputId": "ce7410eb-935b-4d0d-ab45-f63a3fea59b2",
        "colab": {
          "base_uri": "https://localhost:8080/",
          "height": 512
        }
      },
      "source": [
        "plot_accuracy_loss_graph(history)"
      ],
      "execution_count": 47,
      "outputs": [
        {
          "output_type": "display_data",
          "data": {
            "image/png": "[encoded data removed]",
            "text/plain": [
              "<Figure size 1440x576 with 2 Axes>"
            ]
          },
          "metadata": {
            "tags": [],
            "needs_background": "light"
          }
        }
      ]
    },
    {
      "cell_type": "code",
      "metadata": {
        "id": "y4h4zP531WEC"
      },
      "source": [
        ""
      ],
      "execution_count": null,
      "outputs": []
    }
  ]
}