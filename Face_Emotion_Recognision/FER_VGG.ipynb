{
  "nbformat": 4,
  "nbformat_minor": 0,
  "metadata": {
    "colab": {
      "name": "FER_VGG",
      "provenance": [],
      "mount_file_id": "1h99nhsz-bcCCR3mFDHOGSxjF-yoVaw_V",
      "authorship_tag": "ABX9TyO6rR2qLuT9gEYi2EGzeAFL",
      "include_colab_link": true
    },
    "kernelspec": {
      "name": "python3",
      "display_name": "Python 3"
    },
    "accelerator": "GPU"
  },
  "cells": [
    {
      "cell_type": "markdown",
      "metadata": {
        "id": "view-in-github",
        "colab_type": "text"
      },
      "source": [
        "<a href=\"https://colab.research.google.com/github/pavi-ninjaac/DeepLearningProjects/blob/main/Face_Emotion_Recognision/FER_VGG.ipynb\" target=\"_parent\"><img src=\"https://colab.research.google.com/assets/colab-badge.svg\" alt=\"Open In Colab\"/></a>"
      ]
    },
    {
      "cell_type": "code",
      "metadata": {
        "id": "jqyF8qGKCiMw"
      },
      "source": [
        "#import the libraries\r\n",
        "import pandas as pd\r\n",
        "import numpy as np\r\n",
        "import matplotlib.pyplot as plt\r\n",
        "import seaborn as sns\r\n",
        "\r\n",
        "#keras \r\n",
        "from keras.utils.np_utils import to_categorical\r\n",
        "from keras.callbacks import EarlyStopping,ReduceLROnPlateau\r\n",
        "\r\n",
        "#keras layers\r\n",
        "from keras.models import Sequential \r\n",
        "from keras.layers import Conv2D,MaxPooling2D,BatchNormalization,AveragePooling2D\r\n",
        "from keras.layers import Flatten,Dropout,Dense"
      ],
      "execution_count": 3,
      "outputs": []
    },
    {
      "cell_type": "code",
      "metadata": {
        "colab": {
          "base_uri": "https://localhost:8080/",
          "height": 196
        },
        "id": "OxACXptuC1Cg",
        "outputId": "51f6b450-5b2b-4ca0-c2b2-460ba6dca156"
      },
      "source": [
        "#read the dataset\r\n",
        "data = pd.read_csv('/content/drive/MyDrive/Colab Notebooks/dataFiles/fer2013.csv')\r\n",
        "\r\n",
        "print(\"the classs labels\",data['emotion'].unique()) #7 classes\r\n",
        "print(\"The shape of the dataset\",data.shape)\r\n",
        "\r\n",
        "data.head(4)"
      ],
      "execution_count": 4,
      "outputs": [
        {
          "output_type": "stream",
          "text": [
            "the classs labels [0 2 4 6 3 5 1]\n",
            "The shape of the dataset (35887, 3)\n"
          ],
          "name": "stdout"
        },
        {
          "output_type": "execute_result",
          "data": {
            "text/html": [
              "<div>\n",
              "<style scoped>\n",
              "    .dataframe tbody tr th:only-of-type {\n",
              "        vertical-align: middle;\n",
              "    }\n",
              "\n",
              "    .dataframe tbody tr th {\n",
              "        vertical-align: top;\n",
              "    }\n",
              "\n",
              "    .dataframe thead th {\n",
              "        text-align: right;\n",
              "    }\n",
              "</style>\n",
              "<table border=\"1\" class=\"dataframe\">\n",
              "  <thead>\n",
              "    <tr style=\"text-align: right;\">\n",
              "      <th></th>\n",
              "      <th>emotion</th>\n",
              "      <th>pixels</th>\n",
              "      <th>Usage</th>\n",
              "    </tr>\n",
              "  </thead>\n",
              "  <tbody>\n",
              "    <tr>\n",
              "      <th>0</th>\n",
              "      <td>0</td>\n",
              "      <td>70 80 82 72 58 58 60 63 54 58 60 48 89 115 121...</td>\n",
              "      <td>Training</td>\n",
              "    </tr>\n",
              "    <tr>\n",
              "      <th>1</th>\n",
              "      <td>0</td>\n",
              "      <td>151 150 147 155 148 133 111 140 170 174 182 15...</td>\n",
              "      <td>Training</td>\n",
              "    </tr>\n",
              "    <tr>\n",
              "      <th>2</th>\n",
              "      <td>2</td>\n",
              "      <td>231 212 156 164 174 138 161 173 182 200 106 38...</td>\n",
              "      <td>Training</td>\n",
              "    </tr>\n",
              "    <tr>\n",
              "      <th>3</th>\n",
              "      <td>4</td>\n",
              "      <td>24 32 36 30 32 23 19 20 30 41 21 22 32 34 21 1...</td>\n",
              "      <td>Training</td>\n",
              "    </tr>\n",
              "  </tbody>\n",
              "</table>\n",
              "</div>"
            ],
            "text/plain": [
              "   emotion                                             pixels     Usage\n",
              "0        0  70 80 82 72 58 58 60 63 54 58 60 48 89 115 121...  Training\n",
              "1        0  151 150 147 155 148 133 111 140 170 174 182 15...  Training\n",
              "2        2  231 212 156 164 174 138 161 173 182 200 106 38...  Training\n",
              "3        4  24 32 36 30 32 23 19 20 30 41 21 22 32 34 21 1...  Training"
            ]
          },
          "metadata": {
            "tags": []
          },
          "execution_count": 4
        }
      ]
    },
    {
      "cell_type": "code",
      "metadata": {
        "colab": {
          "base_uri": "https://localhost:8080/"
        },
        "id": "B8J5NdMKEszy",
        "outputId": "2f4e8190-8c4c-4c8a-e570-ba8240b71bb7"
      },
      "source": [
        "data['Usage'].value_counts()"
      ],
      "execution_count": 5,
      "outputs": [
        {
          "output_type": "execute_result",
          "data": {
            "text/plain": [
              "Training       28709\n",
              "PrivateTest     3589\n",
              "PublicTest      3589\n",
              "Name: Usage, dtype: int64"
            ]
          },
          "metadata": {
            "tags": []
          },
          "execution_count": 5
        }
      ]
    },
    {
      "cell_type": "code",
      "metadata": {
        "id": "S-PpUQcKDOYa"
      },
      "source": [
        "#pixcels are in str formate so need to read and convert it to numpy array\r\n",
        "\r\n",
        "def generate_dataset(data):\r\n",
        "  X_train,y_train,X_test,y_test,X_val,y_val = [],[],[],[],[],[]\r\n",
        "\r\n",
        "  print(\"Collecting all data...................\")\r\n",
        "  for i in range(data.shape[0]):\r\n",
        "    d = data.iloc[i,:]\r\n",
        "    value = d['pixels'].split(' ')\r\n",
        "    if (d['Usage'] == 'Training'):\r\n",
        "      X_train.append(np.array(value,'float32'))\r\n",
        "      y_train.append(d['emotion'])\r\n",
        "    elif d['Usage'] =='PrivateTest':\r\n",
        "      X_val.append(np.array(value,'float32'))\r\n",
        "      y_val.append(d['emotion'])\r\n",
        "    else:\r\n",
        "      X_test.append(np.array(value,'float32'))\r\n",
        "      y_test.append(d['emotion'])\r\n",
        "\r\n",
        "\r\n",
        "  print(\"Converting to numpy array>>>>>>>>>>>>>>>>>>\")\r\n",
        "  #convert list to numpy array\r\n",
        "  X_train = np.array(X_train,'float32')  \r\n",
        "  y_train = np.array(y_train,'float32')  \r\n",
        "  X_test = np.array(X_test,'float32')  \r\n",
        "  y_test = np.array(y_test,'float32')\r\n",
        "  X_val = np.array(X_val,'float32')  \r\n",
        "  y_val = np.array(y_val,'float32')\r\n",
        "\r\n",
        "  print(\"Normalizing the data>>>>>>>>>>>>>>>>>>>>>>\")\r\n",
        "  #normalize the data\r\n",
        "  X_train  = X_train/255.0\r\n",
        "  X_test = X_test/255.0\r\n",
        "  X_val = X_val/255.0\r\n",
        "\r\n",
        "  print(\"Converting target to one hot encoded values>>>>>>>>>>>>>>>>>>>>>>\")\r\n",
        "  #convert to numerical values to 0,1\r\n",
        "  y_train = to_categorical(y_train,num_classes=7)\r\n",
        "  y_test = to_categorical(y_test,num_classes=7)\r\n",
        "  y_val = to_categorical(y_val,num_classes=7)\r\n",
        "\r\n",
        "  print(\"reshaping the data>>>>>>>>>>>>>>>>>>>>>>>>>>>>>>>>>>\")\r\n",
        "  #reshape the train X data to 48 x 48 picxels\r\n",
        "  #the len of the given picxels is 2304 ------>(48*48)\r\n",
        "  X_train = X_train.reshape(X_train.shape[0] , 48 ,48 , 1)\r\n",
        "  X_test = X_test.reshape(X_test.shape[0] , 48 ,48 , 1)\r\n",
        "  X_val = X_val.reshape(X_val.shape[0] , 48 ,48 , 1)\r\n",
        "\r\n",
        "  print(\"Preprocessing  completed!!!!!!!!!! stay happy :)\")\r\n",
        "  return X_train,y_train,X_test,y_test,X_val,y_val"
      ],
      "execution_count": 6,
      "outputs": []
    },
    {
      "cell_type": "code",
      "metadata": {
        "colab": {
          "base_uri": "https://localhost:8080/"
        },
        "id": "0pH1i-FWFf9g",
        "outputId": "2cde2652-f18f-4fed-c3e9-2a6eb7fc6cee"
      },
      "source": [
        "X_train,y_train,X_test,y_test,X_val,y_val = generate_dataset(data)"
      ],
      "execution_count": 7,
      "outputs": [
        {
          "output_type": "stream",
          "text": [
            "Collecting all data...................\n",
            "Converting to numpy array>>>>>>>>>>>>>>>>>>\n",
            "Normalizing the data>>>>>>>>>>>>>>>>>>>>>>\n",
            "Converting target to one hot encoded values>>>>>>>>>>>>>>>>>>>>>>\n",
            "reshaping the data>>>>>>>>>>>>>>>>>>>>>>>>>>>>>>>>>>\n",
            "Preprocessing  completed!!!!!!!!!! stay happy :)\n"
          ],
          "name": "stdout"
        }
      ]
    },
    {
      "cell_type": "code",
      "metadata": {
        "colab": {
          "base_uri": "https://localhost:8080/"
        },
        "id": "tMa9PBjXFwxv",
        "outputId": "faffdf32-9ecc-4bdd-b8ac-b8e73b2e5040"
      },
      "source": [
        "print(\"The size of the train data-------------------->\",X_train.shape)\r\n",
        "print(\"The size of the train target data------------->\",y_train.shape)\r\n",
        "print()\r\n",
        "print(\"The size of the test data--------------------->\",X_test.shape)\r\n",
        "print(\"The size of the test target data-------------->\",y_test.shape)\r\n",
        "print()\r\n",
        "print(\"The size of the validation data--------------->\",X_val.shape)\r\n",
        "print(\"The size of the validation target data-------->\",y_val.shape)"
      ],
      "execution_count": 8,
      "outputs": [
        {
          "output_type": "stream",
          "text": [
            "The size of the train data--------------------> (28709, 48, 48, 1)\n",
            "The size of the train target data-------------> (28709, 7)\n",
            "\n",
            "The size of the test data---------------------> (3589, 48, 48, 1)\n",
            "The size of the test target data--------------> (3589, 7)\n",
            "\n",
            "The size of the validation data---------------> (3589, 48, 48, 1)\n",
            "The size of the validation target data--------> (3589, 7)\n"
          ],
          "name": "stdout"
        }
      ]
    },
    {
      "cell_type": "markdown",
      "metadata": {
        "id": "DVNnDNrzyERQ"
      },
      "source": [
        "# building the model--->ALEXNET Architechture"
      ]
    },
    {
      "cell_type": "code",
      "metadata": {
        "id": "0HJwNf_jGMdH"
      },
      "source": [
        "#building the model\r\n",
        "def alexnet(input_shape , num_classes , ):\r\n",
        "  model = Sequential()\r\n",
        "  model.add(Conv2D(64, (5, 5), activation='relu', padding='same', input_shape=input_shape)) \r\n",
        "  model.add(Conv2D(64, (5, 5), activation='relu', padding='same', ))\r\n",
        "  model.add(BatchNormalization())\r\n",
        "  model.add(MaxPooling2D(pool_size=(2,2)))\r\n",
        "\r\n",
        "  #model.add(Conv2D(64, (5, 5), activation='relu', padding='same', ))\r\n",
        "  #model.add(BatchNormalization())\r\n",
        "  #model.add(MaxPooling2D(pool_size=(2,2)))\r\n",
        "\r\n",
        "\r\n",
        "  model.add(Conv2D(128, (3, 3), activation='relu',  padding='same', ))\r\n",
        "  model.add(Conv2D(128, (3, 3), activation='relu', padding='same',))\r\n",
        "  model.add(BatchNormalization())\r\n",
        "  model.add(MaxPooling2D(pool_size=(2,2)))\r\n",
        "\r\n",
        "\r\n",
        "  model.add(Conv2D(256, (3, 3), activation='relu', padding='same',))\r\n",
        "  model.add(Conv2D(256, (3, 3), activation='relu',  padding='same',))\r\n",
        "  model.add(BatchNormalization())\r\n",
        "  model.add(MaxPooling2D(pool_size=(2,2)))\r\n",
        "\r\n",
        "\r\n",
        "  model.add(Flatten())\r\n",
        "\r\n",
        "  model.add(Dense(1024, activation='relu',))\r\n",
        "  model.add(Dropout(0.2))\r\n",
        "  model.add(Dense(1024, activation='relu', ))\r\n",
        "  model.add(Dropout(0.2))\r\n",
        "  model.add(Dense(num_classes, activation='sigmoid'))\r\n",
        "\r\n",
        "\r\n",
        "  # compile model\r\n",
        "  \r\n",
        "  model.compile(optimizer='adam', loss='categorical_crossentropy', metrics=['accuracy'])\r\n",
        "\r\n",
        "  #model summary\r\n",
        "  print(model.summary())\r\n",
        "\r\n",
        "  return model"
      ],
      "execution_count": 31,
      "outputs": []
    },
    {
      "cell_type": "code",
      "metadata": {
        "colab": {
          "base_uri": "https://localhost:8080/"
        },
        "id": "F9-dSgCoz0tt",
        "outputId": "6538dc19-d7ce-44f8-cf63-47ca1467190b"
      },
      "source": [
        "model = alexnet(input_shape = (48,48,1), num_classes = 7)"
      ],
      "execution_count": 32,
      "outputs": [
        {
          "output_type": "stream",
          "text": [
            "Model: \"sequential_7\"\n",
            "_________________________________________________________________\n",
            "Layer (type)                 Output Shape              Param #   \n",
            "=================================================================\n",
            "conv2d_46 (Conv2D)           (None, 48, 48, 64)        1664      \n",
            "_________________________________________________________________\n",
            "conv2d_47 (Conv2D)           (None, 48, 48, 64)        102464    \n",
            "_________________________________________________________________\n",
            "batch_normalization_17 (Batc (None, 48, 48, 64)        256       \n",
            "_________________________________________________________________\n",
            "max_pooling2d_24 (MaxPooling (None, 24, 24, 64)        0         \n",
            "_________________________________________________________________\n",
            "conv2d_48 (Conv2D)           (None, 24, 24, 128)       73856     \n",
            "_________________________________________________________________\n",
            "conv2d_49 (Conv2D)           (None, 24, 24, 128)       147584    \n",
            "_________________________________________________________________\n",
            "batch_normalization_18 (Batc (None, 24, 24, 128)       512       \n",
            "_________________________________________________________________\n",
            "max_pooling2d_25 (MaxPooling (None, 12, 12, 128)       0         \n",
            "_________________________________________________________________\n",
            "conv2d_50 (Conv2D)           (None, 12, 12, 256)       295168    \n",
            "_________________________________________________________________\n",
            "conv2d_51 (Conv2D)           (None, 12, 12, 256)       590080    \n",
            "_________________________________________________________________\n",
            "batch_normalization_19 (Batc (None, 12, 12, 256)       1024      \n",
            "_________________________________________________________________\n",
            "max_pooling2d_26 (MaxPooling (None, 6, 6, 256)         0         \n",
            "_________________________________________________________________\n",
            "flatten_7 (Flatten)          (None, 9216)              0         \n",
            "_________________________________________________________________\n",
            "dense_21 (Dense)             (None, 1024)              9438208   \n",
            "_________________________________________________________________\n",
            "dropout_14 (Dropout)         (None, 1024)              0         \n",
            "_________________________________________________________________\n",
            "dense_22 (Dense)             (None, 1024)              1049600   \n",
            "_________________________________________________________________\n",
            "dropout_15 (Dropout)         (None, 1024)              0         \n",
            "_________________________________________________________________\n",
            "dense_23 (Dense)             (None, 7)                 7175      \n",
            "=================================================================\n",
            "Total params: 11,707,591\n",
            "Trainable params: 11,706,695\n",
            "Non-trainable params: 896\n",
            "_________________________________________________________________\n",
            "None\n"
          ],
          "name": "stdout"
        }
      ]
    },
    {
      "cell_type": "code",
      "metadata": {
        "colab": {
          "base_uri": "https://localhost:8080/"
        },
        "id": "3yWZaJSmz7OL",
        "outputId": "6143bb35-d5d3-412c-d778-8bcc99798fc0"
      },
      "source": [
        "# set callbacks\r\n",
        "early_stoppping = EarlyStopping(monitor = 'val_loss',\r\n",
        "                                min_delta = 0.001,\r\n",
        "                                patience = 10,\r\n",
        "                                restore_best_weights=True)\r\n",
        "\r\n",
        "#set the global values\r\n",
        "epoches = 70\r\n",
        "batch_size = 64\r\n",
        "\r\n",
        "#fit the model\r\n",
        "history = model.fit(X_train, y_train,  \r\n",
        "          batch_size=batch_size,  \r\n",
        "          epochs=epoches,  \r\n",
        "          verbose=1,  \r\n",
        "          validation_data=(X_test, y_test),  \r\n",
        "          shuffle=True)"
      ],
      "execution_count": null,
      "outputs": [
        {
          "output_type": "stream",
          "text": [
            "Epoch 1/70\n",
            "449/449 [==============================] - 17s 37ms/step - loss: 2.4312 - accuracy: 0.2399 - val_loss: 1.7029 - val_accuracy: 0.3274\n",
            "Epoch 2/70\n",
            "449/449 [==============================] - 16s 36ms/step - loss: 1.6219 - accuracy: 0.3572 - val_loss: 1.5705 - val_accuracy: 0.3661\n",
            "Epoch 3/70\n",
            "449/449 [==============================] - 16s 36ms/step - loss: 1.4781 - accuracy: 0.4177 - val_loss: 1.4450 - val_accuracy: 0.4528\n",
            "Epoch 4/70\n",
            "449/449 [==============================] - 16s 36ms/step - loss: 1.3288 - accuracy: 0.4831 - val_loss: 1.2828 - val_accuracy: 0.5116\n",
            "Epoch 5/70\n",
            "449/449 [==============================] - 16s 36ms/step - loss: 1.2333 - accuracy: 0.5279 - val_loss: 1.2932 - val_accuracy: 0.5171\n",
            "Epoch 6/70\n",
            "449/449 [==============================] - 16s 36ms/step - loss: 1.1321 - accuracy: 0.5752 - val_loss: 1.2938 - val_accuracy: 0.4990\n",
            "Epoch 7/70\n",
            "449/449 [==============================] - 16s 36ms/step - loss: 1.0497 - accuracy: 0.6023 - val_loss: 1.2176 - val_accuracy: 0.5341\n",
            "Epoch 8/70\n",
            "421/449 [===========================>..] - ETA: 0s - loss: 0.9563 - accuracy: 0.6453"
          ],
          "name": "stdout"
        }
      ]
    },
    {
      "cell_type": "code",
      "metadata": {
        "id": "owuVkM9B5iHi"
      },
      "source": [
        ""
      ],
      "execution_count": null,
      "outputs": []
    }
  ]
}