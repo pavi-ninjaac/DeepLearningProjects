{
  "nbformat": 4,
  "nbformat_minor": 0,
  "metadata": {
    "colab": {
      "name": "FER_VGG",
      "provenance": [],
      "mount_file_id": "1h99nhsz-bcCCR3mFDHOGSxjF-yoVaw_V",
      "authorship_tag": "ABX9TyMqi4U6AUmf3ehhhsjSadN4",
      "include_colab_link": true
    },
    "kernelspec": {
      "name": "python3",
      "display_name": "Python 3"
    },
    "accelerator": "GPU"
  },
  "cells": [
    {
      "cell_type": "markdown",
      "metadata": {
        "id": "view-in-github",
        "colab_type": "text"
      },
      "source": [
        "<a href=\"https://colab.research.google.com/github/pavi-ninjaac/DeepLearningProjects/blob/main/Face_Emotion_Recognision/FER_VGG.ipynb\" target=\"_parent\"><img src=\"https://colab.research.google.com/assets/colab-badge.svg\" alt=\"Open In Colab\"/></a>"
      ]
    },
    {
      "cell_type": "code",
      "metadata": {
        "id": "jqyF8qGKCiMw"
      },
      "source": [
        "#import the libraries\r\n",
        "import pandas as pd\r\n",
        "import numpy as np\r\n",
        "import matplotlib.pyplot as plt\r\n",
        "import seaborn as sns\r\n",
        "import itertools\r\n",
        "\r\n",
        "#keras \r\n",
        "from keras.utils.np_utils import to_categorical\r\n",
        "from keras.callbacks import EarlyStopping,ReduceLROnPlateau\r\n",
        "from keras.models import load_model\r\n",
        "from sklearn.metrics import confusion_matrix\r\n",
        "\r\n",
        "#keras layers\r\n",
        "from keras.models import Sequential \r\n",
        "from keras.layers import Conv2D,MaxPooling2D,BatchNormalization,AveragePooling2D\r\n",
        "from keras.layers import Flatten,Dropout,Dense"
      ],
      "execution_count": 48,
      "outputs": []
    },
    {
      "cell_type": "code",
      "metadata": {
        "colab": {
          "base_uri": "https://localhost:8080/",
          "height": 195
        },
        "id": "OxACXptuC1Cg",
        "outputId": "a935ae83-3e6c-4154-b668-25fb3224b842"
      },
      "source": [
        "#read the dataset\r\n",
        "data = pd.read_csv('/content/drive/MyDrive/Colab Notebooks/dataFiles/fer2013.csv')\r\n",
        "\r\n",
        "print(\"the classs labels\",data['emotion'].unique()) #7 classes\r\n",
        "print(\"The shape of the dataset\",data.shape)\r\n",
        "\r\n",
        "data.head(4)"
      ],
      "execution_count": 49,
      "outputs": [
        {
          "output_type": "stream",
          "text": [
            "the classs labels [0 2 4 6 3 5 1]\n",
            "The shape of the dataset (35887, 3)\n"
          ],
          "name": "stdout"
        },
        {
          "output_type": "execute_result",
          "data": {
            "text/html": [
              "<div>\n",
              "<style scoped>\n",
              "    .dataframe tbody tr th:only-of-type {\n",
              "        vertical-align: middle;\n",
              "    }\n",
              "\n",
              "    .dataframe tbody tr th {\n",
              "        vertical-align: top;\n",
              "    }\n",
              "\n",
              "    .dataframe thead th {\n",
              "        text-align: right;\n",
              "    }\n",
              "</style>\n",
              "<table border=\"1\" class=\"dataframe\">\n",
              "  <thead>\n",
              "    <tr style=\"text-align: right;\">\n",
              "      <th></th>\n",
              "      <th>emotion</th>\n",
              "      <th>pixels</th>\n",
              "      <th>Usage</th>\n",
              "    </tr>\n",
              "  </thead>\n",
              "  <tbody>\n",
              "    <tr>\n",
              "      <th>0</th>\n",
              "      <td>0</td>\n",
              "      <td>70 80 82 72 58 58 60 63 54 58 60 48 89 115 121...</td>\n",
              "      <td>Training</td>\n",
              "    </tr>\n",
              "    <tr>\n",
              "      <th>1</th>\n",
              "      <td>0</td>\n",
              "      <td>151 150 147 155 148 133 111 140 170 174 182 15...</td>\n",
              "      <td>Training</td>\n",
              "    </tr>\n",
              "    <tr>\n",
              "      <th>2</th>\n",
              "      <td>2</td>\n",
              "      <td>231 212 156 164 174 138 161 173 182 200 106 38...</td>\n",
              "      <td>Training</td>\n",
              "    </tr>\n",
              "    <tr>\n",
              "      <th>3</th>\n",
              "      <td>4</td>\n",
              "      <td>24 32 36 30 32 23 19 20 30 41 21 22 32 34 21 1...</td>\n",
              "      <td>Training</td>\n",
              "    </tr>\n",
              "  </tbody>\n",
              "</table>\n",
              "</div>"
            ],
            "text/plain": [
              "   emotion                                             pixels     Usage\n",
              "0        0  70 80 82 72 58 58 60 63 54 58 60 48 89 115 121...  Training\n",
              "1        0  151 150 147 155 148 133 111 140 170 174 182 15...  Training\n",
              "2        2  231 212 156 164 174 138 161 173 182 200 106 38...  Training\n",
              "3        4  24 32 36 30 32 23 19 20 30 41 21 22 32 34 21 1...  Training"
            ]
          },
          "metadata": {
            "tags": []
          },
          "execution_count": 49
        }
      ]
    },
    {
      "cell_type": "code",
      "metadata": {
        "colab": {
          "base_uri": "https://localhost:8080/"
        },
        "id": "B8J5NdMKEszy",
        "outputId": "9cd85dc9-3cb3-4547-a463-d33e6241998f"
      },
      "source": [
        "data['Usage'].value_counts()"
      ],
      "execution_count": 50,
      "outputs": [
        {
          "output_type": "execute_result",
          "data": {
            "text/plain": [
              "Training       28709\n",
              "PublicTest      3589\n",
              "PrivateTest     3589\n",
              "Name: Usage, dtype: int64"
            ]
          },
          "metadata": {
            "tags": []
          },
          "execution_count": 50
        }
      ]
    },
    {
      "cell_type": "code",
      "metadata": {
        "id": "S-PpUQcKDOYa"
      },
      "source": [
        "#pixcels are in str formate so need to read and convert it to numpy array\r\n",
        "\r\n",
        "def generate_dataset(data):\r\n",
        "  X_train,y_train,X_test,y_test,X_val,y_val = [],[],[],[],[],[]\r\n",
        "\r\n",
        "  print(\"Collecting all data...................\")\r\n",
        "  for i in range(data.shape[0]):\r\n",
        "    d = data.iloc[i,:]\r\n",
        "    value = d['pixels'].split(' ')\r\n",
        "    if (d['Usage'] == 'Training'):\r\n",
        "      X_train.append(np.array(value,'float32'))\r\n",
        "      y_train.append(d['emotion'])\r\n",
        "    elif d['Usage'] =='PrivateTest':\r\n",
        "      X_val.append(np.array(value,'float32'))\r\n",
        "      y_val.append(d['emotion'])\r\n",
        "    else:\r\n",
        "      X_test.append(np.array(value,'float32'))\r\n",
        "      y_test.append(d['emotion'])\r\n",
        "\r\n",
        "\r\n",
        "  print(\"Converting to numpy array>>>>>>>>>>>>>>>>>>\")\r\n",
        "  #convert list to numpy array\r\n",
        "  X_train = np.array(X_train,'float32')  \r\n",
        "  y_train = np.array(y_train,'float32')  \r\n",
        "  X_test = np.array(X_test,'float32')  \r\n",
        "  y_test = np.array(y_test,'float32')\r\n",
        "  X_val = np.array(X_val,'float32')  \r\n",
        "  y_val = np.array(y_val,'float32')\r\n",
        "\r\n",
        "  print(\"Normalizing the data>>>>>>>>>>>>>>>>>>>>>>\")\r\n",
        "  #normalize the data\r\n",
        "  X_train  = X_train/255.0\r\n",
        "  X_test = X_test/255.0\r\n",
        "  X_val = X_val/255.0\r\n",
        "\r\n",
        "  print(\"Converting target to one hot encoded values>>>>>>>>>>>>>>>>>>>>>>\")\r\n",
        "  #convert to numerical values to 0,1\r\n",
        "  y_train = to_categorical(y_train,num_classes=7)\r\n",
        "  y_test = to_categorical(y_test,num_classes=7)\r\n",
        "  y_val = to_categorical(y_val,num_classes=7)\r\n",
        "\r\n",
        "  print(\"reshaping the data>>>>>>>>>>>>>>>>>>>>>>>>>>>>>>>>>>\")\r\n",
        "  #reshape the train X data to 48 x 48 picxels\r\n",
        "  #the len of the given picxels is 2304 ------>(48*48)\r\n",
        "  X_train = X_train.reshape(X_train.shape[0] , 48 ,48 , 1)\r\n",
        "  X_test = X_test.reshape(X_test.shape[0] , 48 ,48 , 1)\r\n",
        "  X_val = X_val.reshape(X_val.shape[0] , 48 ,48 , 1)\r\n",
        "\r\n",
        "  print(\"Preprocessing  completed!!!!!!!!!! stay happy :)\")\r\n",
        "  return X_train,y_train,X_test,y_test,X_val,y_val"
      ],
      "execution_count": 51,
      "outputs": []
    },
    {
      "cell_type": "code",
      "metadata": {
        "colab": {
          "base_uri": "https://localhost:8080/"
        },
        "id": "0pH1i-FWFf9g",
        "outputId": "4318cdbe-fce0-4b48-f2c6-5b4c789f9d76"
      },
      "source": [
        "X_train,y_train,X_test,y_test,X_val,y_val = generate_dataset(data)"
      ],
      "execution_count": 52,
      "outputs": [
        {
          "output_type": "stream",
          "text": [
            "Collecting all data...................\n",
            "Converting to numpy array>>>>>>>>>>>>>>>>>>\n",
            "Normalizing the data>>>>>>>>>>>>>>>>>>>>>>\n",
            "Converting target to one hot encoded values>>>>>>>>>>>>>>>>>>>>>>\n",
            "reshaping the data>>>>>>>>>>>>>>>>>>>>>>>>>>>>>>>>>>\n",
            "Preprocessing  completed!!!!!!!!!! stay happy :)\n"
          ],
          "name": "stdout"
        }
      ]
    },
    {
      "cell_type": "code",
      "metadata": {
        "colab": {
          "base_uri": "https://localhost:8080/"
        },
        "id": "tMa9PBjXFwxv",
        "outputId": "dddc34b5-4c72-4680-abdb-6a20ae17ec2b"
      },
      "source": [
        "print(\"The size of the train data-------------------->\",X_train.shape)\r\n",
        "print(\"The size of the train target data------------->\",y_train.shape)\r\n",
        "print()\r\n",
        "print(\"The size of the test data--------------------->\",X_test.shape)\r\n",
        "print(\"The size of the test target data-------------->\",y_test.shape)\r\n",
        "print()\r\n",
        "print(\"The size of the validation data--------------->\",X_val.shape)\r\n",
        "print(\"The size of the validation target data-------->\",y_val.shape)"
      ],
      "execution_count": 53,
      "outputs": [
        {
          "output_type": "stream",
          "text": [
            "The size of the train data--------------------> (28709, 48, 48, 1)\n",
            "The size of the train target data-------------> (28709, 7)\n",
            "\n",
            "The size of the test data---------------------> (3589, 48, 48, 1)\n",
            "The size of the test target data--------------> (3589, 7)\n",
            "\n",
            "The size of the validation data---------------> (3589, 48, 48, 1)\n",
            "The size of the validation target data--------> (3589, 7)\n"
          ],
          "name": "stdout"
        }
      ]
    },
    {
      "cell_type": "markdown",
      "metadata": {
        "id": "8Q1Ja_M93dt4"
      },
      "source": [
        "# plot functions"
      ]
    },
    {
      "cell_type": "code",
      "metadata": {
        "id": "FvHpBaWQ3cxL"
      },
      "source": [
        "def plot_confueion_matrix(y_test , y_pred , title = \"Confusion Matrix\"):\r\n",
        "  classes = np.array((\"Angry\", \"Disgust\", \"Fear\", \"Happy\", \"Sad\", \"Surprise\", \"Neutral\"))\r\n",
        "\r\n",
        "  cmap = plt.cm.Blues\r\n",
        "  cm = confusion_matrix(y_test , y_pred)\r\n",
        "  \r\n",
        "  #plot the cm\r\n",
        "  plt.figure(figsize=(7,7))\r\n",
        "  plt.imshow(cm , interpolation='nearest' , cmap= cmap)\r\n",
        "  plt.colorbar()\r\n",
        "  thresh = cm.min() + (cm.max() - cm.min()) / 2.\r\n",
        "  for i, j in itertools.product(range(cm.shape[0]), range(cm.shape[1])):\r\n",
        "        plt.text(j,i, cm[i, j],\r\n",
        "                 horizontalalignment=\"center\",\r\n",
        "                 color=\"white\" if cm[i, j] > thresh else \"black\")\r\n",
        "\r\n",
        "  tick_marks = np.arange(len(classes))\r\n",
        "  plt.xticks(tick_marks, classes, rotation=45,fontsize=10)\r\n",
        "  plt.yticks(tick_marks, classes,fontsize = 10)\r\n",
        "\r\n",
        "  plt.title(title)\r\n",
        "  plt.xlabel('Predicted value')\r\n",
        "  plt.ylabel('True values')\r\n",
        "\r\n",
        "  plt.tight_layout()\r\n",
        "  plt.show()\r\n",
        "  #plt.save('path.ghb.png')\r\n",
        "\r\n",
        "\r\n",
        "def plot_accuracy_loss_graph(result):\r\n",
        "  plt.figure(figsize=(20,8))\r\n",
        "  plt.subplot(1,2,1)\r\n",
        "\r\n",
        "  plt.plot(result.history['accuracy'])\r\n",
        "  plt.plot(result.history['val_accuracy'])\r\n",
        "  plt.title('VGG Model Accuracy')\r\n",
        "  plt.ylabel('Accuracy')\r\n",
        "  plt.xlabel('Epoch')\r\n",
        "  plt.legend(['Train', 'Test'], loc='upper left')\r\n",
        "  \r\n",
        "  #plt.savefig('ResNet Model Loss.png')\r\n",
        "\r\n",
        "  plt.subplot(1,2,2)\r\n",
        "\r\n",
        "  plt.plot(result.history['loss'])\r\n",
        "  plt.plot(result.history['val_loss'])\r\n",
        "  plt.title('VGG  Model Loss')\r\n",
        "  plt.ylabel('Loss')\r\n",
        "  plt.xlabel('Epoch')\r\n",
        "  plt.legend(['Train', 'Test'], loc='upper left')\r\n",
        "  plt.show()\r\n",
        "  #plt.savefig('ResNet Model Loss.png')\r\n"
      ],
      "execution_count": 54,
      "outputs": []
    },
    {
      "cell_type": "markdown",
      "metadata": {
        "id": "DVNnDNrzyERQ"
      },
      "source": [
        "# building the model--->ALEXNET Architechture"
      ]
    },
    {
      "cell_type": "code",
      "metadata": {
        "id": "0HJwNf_jGMdH"
      },
      "source": [
        "#building the model\r\n",
        "def VGGnet(input_shape , num_classes , ):\r\n",
        "  model = Sequential()\r\n",
        "  model.add(Conv2D(64, (5, 5), activation='relu', padding='same', input_shape=input_shape)) \r\n",
        "  model.add(Conv2D(64, (5, 5), activation='relu', padding='same', ))\r\n",
        "  model.add(BatchNormalization())\r\n",
        "  model.add(MaxPooling2D(pool_size=(2,2)))\r\n",
        "\r\n",
        "  #model.add(Conv2D(64, (5, 5), activation='relu', padding='same', ))\r\n",
        "  #model.add(BatchNormalization())\r\n",
        "  #model.add(MaxPooling2D(pool_size=(2,2)))\r\n",
        "\r\n",
        "\r\n",
        "  model.add(Conv2D(128, (3, 3), activation='relu',  padding='same', ))\r\n",
        "  model.add(Conv2D(128, (3, 3), activation='relu', padding='same',))\r\n",
        "  model.add(BatchNormalization())\r\n",
        "  model.add(MaxPooling2D(pool_size=(2,2)))\r\n",
        "\r\n",
        "\r\n",
        "  model.add(Conv2D(256, (3, 3), activation='relu', padding='same',))\r\n",
        "  model.add(Conv2D(256, (3, 3), activation='relu',  padding='same',))\r\n",
        "  model.add(BatchNormalization())\r\n",
        "  model.add(MaxPooling2D(pool_size=(2,2)))\r\n",
        "\r\n",
        "\r\n",
        "  model.add(Flatten())\r\n",
        "\r\n",
        "  model.add(Dense(1024, activation='relu',))\r\n",
        "  model.add(Dropout(0.2))\r\n",
        "  model.add(Dense(1024, activation='relu', ))\r\n",
        "  model.add(Dropout(0.2))\r\n",
        "  model.add(Dense(num_classes, activation='sigmoid'))\r\n",
        "\r\n",
        "\r\n",
        "  # compile model\r\n",
        "  \r\n",
        "  model.compile(optimizer='adam', loss='categorical_crossentropy', metrics=['accuracy'])\r\n",
        "\r\n",
        "  #model summary\r\n",
        "  print(model.summary())\r\n",
        "\r\n",
        "  return model"
      ],
      "execution_count": 55,
      "outputs": []
    },
    {
      "cell_type": "code",
      "metadata": {
        "colab": {
          "base_uri": "https://localhost:8080/"
        },
        "id": "F9-dSgCoz0tt",
        "outputId": "88797262-5836-4523-86b4-10a33e1dedba"
      },
      "source": [
        "model = VGGnet(input_shape = (48,48,1), num_classes = 7)"
      ],
      "execution_count": 56,
      "outputs": [
        {
          "output_type": "stream",
          "text": [
            "Model: \"sequential_1\"\n",
            "_________________________________________________________________\n",
            "Layer (type)                 Output Shape              Param #   \n",
            "=================================================================\n",
            "conv2d_6 (Conv2D)            (None, 48, 48, 64)        1664      \n",
            "_________________________________________________________________\n",
            "conv2d_7 (Conv2D)            (None, 48, 48, 64)        102464    \n",
            "_________________________________________________________________\n",
            "batch_normalization_3 (Batch (None, 48, 48, 64)        256       \n",
            "_________________________________________________________________\n",
            "max_pooling2d_3 (MaxPooling2 (None, 24, 24, 64)        0         \n",
            "_________________________________________________________________\n",
            "conv2d_8 (Conv2D)            (None, 24, 24, 128)       73856     \n",
            "_________________________________________________________________\n",
            "conv2d_9 (Conv2D)            (None, 24, 24, 128)       147584    \n",
            "_________________________________________________________________\n",
            "batch_normalization_4 (Batch (None, 24, 24, 128)       512       \n",
            "_________________________________________________________________\n",
            "max_pooling2d_4 (MaxPooling2 (None, 12, 12, 128)       0         \n",
            "_________________________________________________________________\n",
            "conv2d_10 (Conv2D)           (None, 12, 12, 256)       295168    \n",
            "_________________________________________________________________\n",
            "conv2d_11 (Conv2D)           (None, 12, 12, 256)       590080    \n",
            "_________________________________________________________________\n",
            "batch_normalization_5 (Batch (None, 12, 12, 256)       1024      \n",
            "_________________________________________________________________\n",
            "max_pooling2d_5 (MaxPooling2 (None, 6, 6, 256)         0         \n",
            "_________________________________________________________________\n",
            "flatten_1 (Flatten)          (None, 9216)              0         \n",
            "_________________________________________________________________\n",
            "dense_3 (Dense)              (None, 1024)              9438208   \n",
            "_________________________________________________________________\n",
            "dropout_2 (Dropout)          (None, 1024)              0         \n",
            "_________________________________________________________________\n",
            "dense_4 (Dense)              (None, 1024)              1049600   \n",
            "_________________________________________________________________\n",
            "dropout_3 (Dropout)          (None, 1024)              0         \n",
            "_________________________________________________________________\n",
            "dense_5 (Dense)              (None, 7)                 7175      \n",
            "=================================================================\n",
            "Total params: 11,707,591\n",
            "Trainable params: 11,706,695\n",
            "Non-trainable params: 896\n",
            "_________________________________________________________________\n",
            "None\n"
          ],
          "name": "stdout"
        }
      ]
    },
    {
      "cell_type": "code",
      "metadata": {
        "colab": {
          "base_uri": "https://localhost:8080/"
        },
        "id": "3yWZaJSmz7OL",
        "outputId": "5bbbfda7-3f70-4d31-dad4-20341bf68892"
      },
      "source": [
        "# set callbacks\r\n",
        "early_stoppping = EarlyStopping(monitor = 'val_loss',\r\n",
        "                                min_delta = 0.001,\r\n",
        "                                patience = 10,\r\n",
        "                                restore_best_weights=True)\r\n",
        "\r\n",
        "#set the global values\r\n",
        "epoches = 70\r\n",
        "batch_size = 64\r\n",
        "\r\n",
        "#fit the model\r\n",
        "history = model.fit(X_train, y_train,  \r\n",
        "          batch_size=batch_size,  \r\n",
        "          epochs=epoches,  \r\n",
        "          verbose=1,  \r\n",
        "          validation_data=(X_val, y_val),  \r\n",
        "          shuffle=True) #final accuracy --> at epoch 70 -->449/449 [==============================] - 16s 36ms/step - loss: 0.0594 - accuracy: 0.9826 - val_loss: 2.5800 - val_accuracy: 0.5938"
      ],
      "execution_count": 57,
      "outputs": [
        {
          "output_type": "stream",
          "text": [
            "Epoch 1/70\n",
            "449/449 [==============================] - 17s 37ms/step - loss: 2.6125 - accuracy: 0.2393 - val_loss: 1.7982 - val_accuracy: 0.2764\n",
            "Epoch 2/70\n",
            "449/449 [==============================] - 16s 37ms/step - loss: 1.6113 - accuracy: 0.3645 - val_loss: 1.5656 - val_accuracy: 0.4007\n",
            "Epoch 3/70\n",
            "449/449 [==============================] - 16s 36ms/step - loss: 1.4641 - accuracy: 0.4322 - val_loss: 1.4131 - val_accuracy: 0.4531\n",
            "Epoch 4/70\n",
            "449/449 [==============================] - 16s 35ms/step - loss: 1.3374 - accuracy: 0.4874 - val_loss: 1.6038 - val_accuracy: 0.3486\n",
            "Epoch 5/70\n",
            "449/449 [==============================] - 16s 35ms/step - loss: 1.2254 - accuracy: 0.5317 - val_loss: 1.3052 - val_accuracy: 0.4932\n",
            "Epoch 6/70\n",
            "449/449 [==============================] - 16s 36ms/step - loss: 1.1230 - accuracy: 0.5757 - val_loss: 1.4209 - val_accuracy: 0.4461\n",
            "Epoch 7/70\n",
            "449/449 [==============================] - 16s 36ms/step - loss: 1.0347 - accuracy: 0.6077 - val_loss: 1.2306 - val_accuracy: 0.5361\n",
            "Epoch 8/70\n",
            "449/449 [==============================] - 16s 36ms/step - loss: 0.9137 - accuracy: 0.6578 - val_loss: 1.1882 - val_accuracy: 0.5606\n",
            "Epoch 9/70\n",
            "449/449 [==============================] - 16s 36ms/step - loss: 0.7843 - accuracy: 0.7095 - val_loss: 1.1838 - val_accuracy: 0.5726\n",
            "Epoch 10/70\n",
            "449/449 [==============================] - 16s 36ms/step - loss: 0.6290 - accuracy: 0.7661 - val_loss: 1.2549 - val_accuracy: 0.5550\n",
            "Epoch 11/70\n",
            "449/449 [==============================] - 16s 36ms/step - loss: 0.5075 - accuracy: 0.8162 - val_loss: 1.2842 - val_accuracy: 0.5840\n",
            "Epoch 12/70\n",
            "449/449 [==============================] - 16s 36ms/step - loss: 0.4096 - accuracy: 0.8561 - val_loss: 1.3392 - val_accuracy: 0.5879\n",
            "Epoch 13/70\n",
            "449/449 [==============================] - 16s 36ms/step - loss: 0.3365 - accuracy: 0.8824 - val_loss: 1.3539 - val_accuracy: 0.5960\n",
            "Epoch 14/70\n",
            "449/449 [==============================] - 16s 36ms/step - loss: 0.2932 - accuracy: 0.9027 - val_loss: 1.4066 - val_accuracy: 0.5762\n",
            "Epoch 15/70\n",
            "449/449 [==============================] - 16s 36ms/step - loss: 0.2402 - accuracy: 0.9234 - val_loss: 1.7362 - val_accuracy: 0.6004\n",
            "Epoch 16/70\n",
            "449/449 [==============================] - 16s 36ms/step - loss: 0.2203 - accuracy: 0.9264 - val_loss: 1.6354 - val_accuracy: 0.5809\n",
            "Epoch 17/70\n",
            "449/449 [==============================] - 16s 36ms/step - loss: 0.1929 - accuracy: 0.9382 - val_loss: 1.6824 - val_accuracy: 0.5885\n",
            "Epoch 18/70\n",
            "449/449 [==============================] - 16s 36ms/step - loss: 0.1836 - accuracy: 0.9425 - val_loss: 1.7699 - val_accuracy: 0.5857\n",
            "Epoch 19/70\n",
            "449/449 [==============================] - 16s 36ms/step - loss: 0.1808 - accuracy: 0.9435 - val_loss: 1.8792 - val_accuracy: 0.5965\n",
            "Epoch 20/70\n",
            "449/449 [==============================] - 16s 36ms/step - loss: 0.1592 - accuracy: 0.9519 - val_loss: 1.7052 - val_accuracy: 0.5834\n",
            "Epoch 21/70\n",
            "449/449 [==============================] - 16s 36ms/step - loss: 0.1520 - accuracy: 0.9518 - val_loss: 2.1739 - val_accuracy: 0.5851\n",
            "Epoch 22/70\n",
            "449/449 [==============================] - 16s 36ms/step - loss: 0.1352 - accuracy: 0.9590 - val_loss: 1.7909 - val_accuracy: 0.6046\n",
            "Epoch 23/70\n",
            "449/449 [==============================] - 16s 36ms/step - loss: 0.1392 - accuracy: 0.9584 - val_loss: 2.0172 - val_accuracy: 0.5971\n",
            "Epoch 24/70\n",
            "449/449 [==============================] - 16s 36ms/step - loss: 0.1299 - accuracy: 0.9608 - val_loss: 1.9538 - val_accuracy: 0.5818\n",
            "Epoch 25/70\n",
            "449/449 [==============================] - 16s 36ms/step - loss: 0.1293 - accuracy: 0.9599 - val_loss: 1.9352 - val_accuracy: 0.5887\n",
            "Epoch 26/70\n",
            "449/449 [==============================] - 16s 36ms/step - loss: 0.1318 - accuracy: 0.9612 - val_loss: 1.8502 - val_accuracy: 0.5890\n",
            "Epoch 27/70\n",
            "449/449 [==============================] - 16s 36ms/step - loss: 0.1303 - accuracy: 0.9622 - val_loss: 1.7690 - val_accuracy: 0.5968\n",
            "Epoch 28/70\n",
            "449/449 [==============================] - 16s 36ms/step - loss: 0.1086 - accuracy: 0.9654 - val_loss: 1.9485 - val_accuracy: 0.5974\n",
            "Epoch 29/70\n",
            "449/449 [==============================] - 16s 36ms/step - loss: 0.1131 - accuracy: 0.9649 - val_loss: 2.1720 - val_accuracy: 0.5957\n",
            "Epoch 30/70\n",
            "449/449 [==============================] - 16s 36ms/step - loss: 0.1070 - accuracy: 0.9683 - val_loss: 1.7929 - val_accuracy: 0.5907\n",
            "Epoch 31/70\n",
            "449/449 [==============================] - 16s 36ms/step - loss: 0.1029 - accuracy: 0.9715 - val_loss: 1.9504 - val_accuracy: 0.5779\n",
            "Epoch 32/70\n",
            "449/449 [==============================] - 16s 36ms/step - loss: 0.1067 - accuracy: 0.9679 - val_loss: 2.0109 - val_accuracy: 0.5982\n",
            "Epoch 33/70\n",
            "449/449 [==============================] - 16s 36ms/step - loss: 0.0995 - accuracy: 0.9712 - val_loss: 2.4411 - val_accuracy: 0.5996\n",
            "Epoch 34/70\n",
            "449/449 [==============================] - 16s 36ms/step - loss: 0.0927 - accuracy: 0.9722 - val_loss: 1.9590 - val_accuracy: 0.5793\n",
            "Epoch 35/70\n",
            "449/449 [==============================] - 16s 35ms/step - loss: 0.0935 - accuracy: 0.9733 - val_loss: 1.9524 - val_accuracy: 0.5915\n",
            "Epoch 36/70\n",
            "449/449 [==============================] - 16s 36ms/step - loss: 0.0866 - accuracy: 0.9734 - val_loss: 2.1022 - val_accuracy: 0.5910\n",
            "Epoch 37/70\n",
            "449/449 [==============================] - 16s 36ms/step - loss: 0.0973 - accuracy: 0.9726 - val_loss: 2.4531 - val_accuracy: 0.5876\n",
            "Epoch 38/70\n",
            "449/449 [==============================] - 16s 36ms/step - loss: 0.1005 - accuracy: 0.9712 - val_loss: 2.5206 - val_accuracy: 0.5690\n",
            "Epoch 39/70\n",
            "449/449 [==============================] - 16s 36ms/step - loss: 0.0921 - accuracy: 0.9724 - val_loss: 1.7235 - val_accuracy: 0.5965\n",
            "Epoch 40/70\n",
            "449/449 [==============================] - 16s 36ms/step - loss: 0.0851 - accuracy: 0.9755 - val_loss: 2.1318 - val_accuracy: 0.5848\n",
            "Epoch 41/70\n",
            "449/449 [==============================] - 16s 36ms/step - loss: 0.0777 - accuracy: 0.9764 - val_loss: 2.1517 - val_accuracy: 0.5915\n",
            "Epoch 42/70\n",
            "449/449 [==============================] - 16s 36ms/step - loss: 0.0843 - accuracy: 0.9744 - val_loss: 2.6900 - val_accuracy: 0.5887\n",
            "Epoch 43/70\n",
            "449/449 [==============================] - 16s 36ms/step - loss: 0.0704 - accuracy: 0.9795 - val_loss: 2.6781 - val_accuracy: 0.5929\n",
            "Epoch 44/70\n",
            "449/449 [==============================] - 16s 36ms/step - loss: 0.0884 - accuracy: 0.9747 - val_loss: 2.1574 - val_accuracy: 0.5977\n",
            "Epoch 45/70\n",
            "449/449 [==============================] - 16s 36ms/step - loss: 0.0788 - accuracy: 0.9765 - val_loss: 2.2510 - val_accuracy: 0.5768\n",
            "Epoch 46/70\n",
            "449/449 [==============================] - 16s 36ms/step - loss: 0.0927 - accuracy: 0.9738 - val_loss: 1.8412 - val_accuracy: 0.5963\n",
            "Epoch 47/70\n",
            "449/449 [==============================] - 16s 36ms/step - loss: 0.0691 - accuracy: 0.9799 - val_loss: 2.5009 - val_accuracy: 0.6071\n",
            "Epoch 48/70\n",
            "449/449 [==============================] - 16s 35ms/step - loss: 0.0772 - accuracy: 0.9769 - val_loss: 1.8303 - val_accuracy: 0.6007\n",
            "Epoch 49/70\n",
            "449/449 [==============================] - 16s 36ms/step - loss: 0.0826 - accuracy: 0.9770 - val_loss: 2.2804 - val_accuracy: 0.5991\n",
            "Epoch 50/70\n",
            "449/449 [==============================] - 16s 36ms/step - loss: 0.0700 - accuracy: 0.9775 - val_loss: 2.2917 - val_accuracy: 0.6041\n",
            "Epoch 51/70\n",
            "449/449 [==============================] - 16s 36ms/step - loss: 0.0794 - accuracy: 0.9769 - val_loss: 2.0403 - val_accuracy: 0.5899\n",
            "Epoch 52/70\n",
            "449/449 [==============================] - 16s 36ms/step - loss: 0.0738 - accuracy: 0.9791 - val_loss: 2.0254 - val_accuracy: 0.6013\n",
            "Epoch 53/70\n",
            "449/449 [==============================] - 16s 36ms/step - loss: 0.0642 - accuracy: 0.9811 - val_loss: 2.2421 - val_accuracy: 0.5879\n",
            "Epoch 54/70\n",
            "449/449 [==============================] - 16s 35ms/step - loss: 0.0743 - accuracy: 0.9776 - val_loss: 2.2318 - val_accuracy: 0.5996\n",
            "Epoch 55/70\n",
            "449/449 [==============================] - 16s 36ms/step - loss: 0.0609 - accuracy: 0.9836 - val_loss: 2.1642 - val_accuracy: 0.6141\n",
            "Epoch 56/70\n",
            "449/449 [==============================] - 16s 36ms/step - loss: 0.0632 - accuracy: 0.9800 - val_loss: 2.2150 - val_accuracy: 0.6080\n",
            "Epoch 57/70\n",
            "449/449 [==============================] - 16s 36ms/step - loss: 0.0607 - accuracy: 0.9819 - val_loss: 2.0677 - val_accuracy: 0.5979\n",
            "Epoch 58/70\n",
            "449/449 [==============================] - 16s 36ms/step - loss: 0.0725 - accuracy: 0.9809 - val_loss: 2.1883 - val_accuracy: 0.6018\n",
            "Epoch 59/70\n",
            "449/449 [==============================] - 16s 36ms/step - loss: 0.0701 - accuracy: 0.9812 - val_loss: 2.3439 - val_accuracy: 0.5977\n",
            "Epoch 60/70\n",
            "449/449 [==============================] - 16s 36ms/step - loss: 0.0598 - accuracy: 0.9835 - val_loss: 2.3748 - val_accuracy: 0.6046\n",
            "Epoch 61/70\n",
            "449/449 [==============================] - 16s 36ms/step - loss: 0.0550 - accuracy: 0.9838 - val_loss: 2.1510 - val_accuracy: 0.5901\n",
            "Epoch 62/70\n",
            "449/449 [==============================] - 16s 36ms/step - loss: 0.0630 - accuracy: 0.9818 - val_loss: 2.1356 - val_accuracy: 0.5854\n",
            "Epoch 63/70\n",
            "449/449 [==============================] - 16s 36ms/step - loss: 0.0755 - accuracy: 0.9795 - val_loss: 2.1306 - val_accuracy: 0.5910\n",
            "Epoch 64/70\n",
            "449/449 [==============================] - 16s 36ms/step - loss: 0.0689 - accuracy: 0.9806 - val_loss: 2.1627 - val_accuracy: 0.5846\n",
            "Epoch 65/70\n",
            "449/449 [==============================] - 16s 35ms/step - loss: 0.0653 - accuracy: 0.9831 - val_loss: 2.2129 - val_accuracy: 0.5868\n",
            "Epoch 66/70\n",
            "449/449 [==============================] - 16s 36ms/step - loss: 0.0564 - accuracy: 0.9840 - val_loss: 2.6717 - val_accuracy: 0.5910\n",
            "Epoch 67/70\n",
            "449/449 [==============================] - 16s 36ms/step - loss: 0.0545 - accuracy: 0.9847 - val_loss: 2.2293 - val_accuracy: 0.6018\n",
            "Epoch 68/70\n",
            "449/449 [==============================] - 16s 36ms/step - loss: 0.0617 - accuracy: 0.9830 - val_loss: 2.0184 - val_accuracy: 0.5723\n",
            "Epoch 69/70\n",
            "449/449 [==============================] - 16s 36ms/step - loss: 0.0550 - accuracy: 0.9836 - val_loss: 2.2531 - val_accuracy: 0.6007\n",
            "Epoch 70/70\n",
            "449/449 [==============================] - 16s 36ms/step - loss: 0.0538 - accuracy: 0.9840 - val_loss: 2.4351 - val_accuracy: 0.5876\n"
          ],
          "name": "stdout"
        }
      ]
    },
    {
      "cell_type": "code",
      "metadata": {
        "colab": {
          "base_uri": "https://localhost:8080/"
        },
        "id": "owuVkM9B5iHi",
        "outputId": "dd231feb-205c-404b-cad4-510b3db24d38"
      },
      "source": [
        "# save model and architecture to single file\r\n",
        "model.save(\"/content/drive/MyDrive/Colab Notebooks/dataFiles/FER_vggnet.h5\")\r\n",
        "print(\"Saved model to disk\")"
      ],
      "execution_count": 58,
      "outputs": [
        {
          "output_type": "stream",
          "text": [
            "Saved model to disk\n"
          ],
          "name": "stdout"
        }
      ]
    },
    {
      "cell_type": "code",
      "metadata": {
        "colab": {
          "base_uri": "https://localhost:8080/"
        },
        "id": "LXvaiLyYorxZ",
        "outputId": "e50c01ad-0b5c-4ae5-efa7-2f2165782624"
      },
      "source": [
        "# load the model from the disk\r\n",
        "\r\n",
        "fer_vggnet  = load_model('/content/drive/MyDrive/Colab Notebooks/dataFiles/FER_vggnet.h5')\r\n",
        "fer_vggnet.summary()"
      ],
      "execution_count": 61,
      "outputs": [
        {
          "output_type": "stream",
          "text": [
            "Model: \"sequential_1\"\n",
            "_________________________________________________________________\n",
            "Layer (type)                 Output Shape              Param #   \n",
            "=================================================================\n",
            "conv2d_6 (Conv2D)            (None, 48, 48, 64)        1664      \n",
            "_________________________________________________________________\n",
            "conv2d_7 (Conv2D)            (None, 48, 48, 64)        102464    \n",
            "_________________________________________________________________\n",
            "batch_normalization_3 (Batch (None, 48, 48, 64)        256       \n",
            "_________________________________________________________________\n",
            "max_pooling2d_3 (MaxPooling2 (None, 24, 24, 64)        0         \n",
            "_________________________________________________________________\n",
            "conv2d_8 (Conv2D)            (None, 24, 24, 128)       73856     \n",
            "_________________________________________________________________\n",
            "conv2d_9 (Conv2D)            (None, 24, 24, 128)       147584    \n",
            "_________________________________________________________________\n",
            "batch_normalization_4 (Batch (None, 24, 24, 128)       512       \n",
            "_________________________________________________________________\n",
            "max_pooling2d_4 (MaxPooling2 (None, 12, 12, 128)       0         \n",
            "_________________________________________________________________\n",
            "conv2d_10 (Conv2D)           (None, 12, 12, 256)       295168    \n",
            "_________________________________________________________________\n",
            "conv2d_11 (Conv2D)           (None, 12, 12, 256)       590080    \n",
            "_________________________________________________________________\n",
            "batch_normalization_5 (Batch (None, 12, 12, 256)       1024      \n",
            "_________________________________________________________________\n",
            "max_pooling2d_5 (MaxPooling2 (None, 6, 6, 256)         0         \n",
            "_________________________________________________________________\n",
            "flatten_1 (Flatten)          (None, 9216)              0         \n",
            "_________________________________________________________________\n",
            "dense_3 (Dense)              (None, 1024)              9438208   \n",
            "_________________________________________________________________\n",
            "dropout_2 (Dropout)          (None, 1024)              0         \n",
            "_________________________________________________________________\n",
            "dense_4 (Dense)              (None, 1024)              1049600   \n",
            "_________________________________________________________________\n",
            "dropout_3 (Dropout)          (None, 1024)              0         \n",
            "_________________________________________________________________\n",
            "dense_5 (Dense)              (None, 7)                 7175      \n",
            "=================================================================\n",
            "Total params: 11,707,591\n",
            "Trainable params: 11,706,695\n",
            "Non-trainable params: 896\n",
            "_________________________________________________________________\n"
          ],
          "name": "stdout"
        }
      ]
    },
    {
      "cell_type": "code",
      "metadata": {
        "colab": {
          "base_uri": "https://localhost:8080/",
          "height": 512
        },
        "id": "0GBiL_8TqI-v",
        "outputId": "ebf60e63-420b-40a4-ffae-82078663cc1c"
      },
      "source": [
        "# plot the metrics\r\n",
        "\r\n",
        "y_pred = fer_vggnet.predict(X_test , verbose=1)\r\n",
        "y_pred = np.argmax(y_pred , axis = 1)\r\n",
        "\r\n",
        "#change the test value to numerical\r\n",
        "y_test = np.argmax(y_test , axis = 1)\r\n",
        "\r\n",
        "plot_confueion_matrix(y_test = y_test , y_pred = y_pred)\r\n"
      ],
      "execution_count": 62,
      "outputs": [
        {
          "output_type": "stream",
          "text": [
            "113/113 [==============================] - 1s 6ms/step\n"
          ],
          "name": "stdout"
        },
        {
          "output_type": "display_data",
          "data": {
            "image/png": "[encoded data removed]",
            "text/plain": [
              "<Figure size 504x504 with 2 Axes>"
            ]
          },
          "metadata": {
            "tags": [],
            "needs_background": "light"
          }
        }
      ]
    },
    {
      "cell_type": "code",
      "metadata": {
        "colab": {
          "base_uri": "https://localhost:8080/",
          "height": 512
        },
        "id": "7RXxq9tFza5X",
        "outputId": "04b1c2a9-7945-493c-af14-e152b70b8a5f"
      },
      "source": [
        "plot_accuracy_loss_graph(history)"
      ],
      "execution_count": 63,
      "outputs": [
        {
          "output_type": "display_data",
          "data": {
            "image/png": "[encoded data removed]",
            "text/plain": [
              "<Figure size 1440x576 with 2 Axes>"
            ]
          },
          "metadata": {
            "tags": [],
            "needs_background": "light"
          }
        }
      ]
    },
    {
      "cell_type": "code",
      "metadata": {
        "id": "y4h4zP531WEC"
      },
      "source": [
        "#testing with custom imgaes\r\n"
      ],
      "execution_count": null,
      "outputs": []
    }
  ]
}