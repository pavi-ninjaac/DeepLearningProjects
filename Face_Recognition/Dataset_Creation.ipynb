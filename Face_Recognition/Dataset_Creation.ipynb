{
 "cells": [
  {
   "cell_type": "code",
   "execution_count": 1,
   "metadata": {},
   "outputs": [],
   "source": [
    "#collecting the user images\n",
    "import cv2\n",
    "import numpy as np\n",
    "import pandas as pd"
   ]
  },
  {
   "cell_type": "code",
   "execution_count": 2,
   "metadata": {},
   "outputs": [],
   "source": [
    "# Face Emotion Recognition\n",
    "#Here i am using my trained model, that is trained and saved as a h5 file\n",
    "faceDetection_model = 'D:\\pavi\\DeepLearningProjects\\Face_Emosion_Recognition\\pretrained_model\\Face_Detection_TrainedModel\\haarcascade_frontalface_default.xml'"
   ]
  },
  {
   "cell_type": "code",
   "execution_count": 3,
   "metadata": {},
   "outputs": [],
   "source": [
    "def detect_crop_face(img):\n",
    "    face_cascard = cv2.CascadeClassifier(faceDetection_model)\n",
    "    cap = cv2.VideoCapture(0)\n",
    "  \n",
    "    gray_img = cv2.cvtColor(img , cv2.COLOR_BGR2GRAY)\n",
    "        \n",
    "    face = face_cascard.detectMultiScale(gray_img , scaleFactor=1.1 , minNeighbors=1)\n",
    "    \n",
    "    if face is ():\n",
    "        return None\n",
    "    \n",
    "    for (x,y,w,h) in face:\n",
    "            face_croped = gray_img[y:(y+h) , x:(x+w)]\n",
    "    return face_croped\n",
    "            "
   ]
  },
  {
   "cell_type": "code",
   "execution_count": null,
   "metadata": {},
   "outputs": [],
   "source": [
    "cap = VedioCapture(0)\n",
    "\n",
    "while True:\n",
    "    "
   ]
  }
 ],
 "metadata": {
  "kernelspec": {
   "display_name": "Python 3",
   "language": "python",
   "name": "python3"
  },
  "language_info": {
   "codemirror_mode": {
    "name": "ipython",
    "version": 3
   },
   "file_extension": ".py",
   "mimetype": "text/x-python",
   "name": "python",
   "nbconvert_exporter": "python",
   "pygments_lexer": "ipython3",
   "version": "3.7.4"
  }
 },
 "nbformat": 4,
 "nbformat_minor": 2
}
